{
 "cells": [
  {
   "cell_type": "code",
   "execution_count": 1,
   "id": "566f7925",
   "metadata": {},
   "outputs": [],
   "source": [
    "import os\n",
    "import boto3"
   ]
  },
  {
   "cell_type": "code",
   "execution_count": 5,
   "id": "d63910ad",
   "metadata": {},
   "outputs": [
    {
     "name": "stdout",
     "output_type": "stream",
     "text": [
      "Error occurred while uploading file: Failed to upload /Users/vedant/Documents/George Mason/Data Analytics material/DAEN 690/Sprint 2/pubmed_abstracts_with_mesh.csv to gmu-cec-sagemaker-daen690-or/pubmed_abstracts_with_mesh.csv: An error occurred (InvalidAccessKeyId) when calling the PutObject operation: The AWS Access Key Id you provided does not exist in our records.\n"
     ]
    }
   ],
   "source": [
    "def upload_file_to_s3(file_name, bucket_name, object_name=None):\n",
    "    # If S3 object_name was not specified, use file_name\n",
    "    if object_name is None:\n",
    "        object_name = os.path.basename(file_name)\n",
    "    \n",
    " # Use new AWS credentials\n",
    "    s3_client = boto3.client(\n",
    "        's3',\n",
    "        aws_access_key_id='',  #access key\n",
    "        aws_secret_access_key='',  #secret access key\n",
    "        region_name='us-east-1'  #same\n",
    "    )\n",
    "\n",
    "    try:\n",
    "        s3_client.upload_file(file_name, bucket_name, object_name)\n",
    "        print(f\"File {file_name} uploaded successfully to {bucket_name}/{object_name}\")\n",
    "    except Exception as e:\n",
    "        print(f\"Error occurred while uploading file: {e}\")\n",
    "\n",
    "        \n",
    "# Example usage\n",
    "file_name = '/Users/vedant/Documents/George Mason/Data Analytics material/DAEN 690/Sprint 2/pubmed_abstracts_with_mesh.csv' \n",
    "bucket_name = 'gmu-cec-sagemaker-daen690-or'  \n",
    "\n",
    "upload_file_to_s3(file_name, bucket_name)"
   ]
  },
  {
   "cell_type": "code",
   "execution_count": null,
   "id": "94978c23",
   "metadata": {},
   "outputs": [],
   "source": []
  },
  {
   "cell_type": "code",
   "execution_count": null,
   "id": "d77b8074",
   "metadata": {},
   "outputs": [],
   "source": []
  },
  {
   "cell_type": "code",
   "execution_count": null,
   "id": "8523ae9d",
   "metadata": {},
   "outputs": [],
   "source": []
  },
  {
   "cell_type": "code",
   "execution_count": null,
   "id": "a0c70d69",
   "metadata": {},
   "outputs": [],
   "source": []
  },
  {
   "cell_type": "code",
   "execution_count": null,
   "id": "47b70db2",
   "metadata": {},
   "outputs": [],
   "source": []
  },
  {
   "cell_type": "code",
   "execution_count": null,
   "id": "b4fb7ddf",
   "metadata": {},
   "outputs": [],
   "source": []
  },
  {
   "cell_type": "code",
   "execution_count": null,
   "id": "f88beb8a",
   "metadata": {},
   "outputs": [],
   "source": []
  }
 ],
 "metadata": {
  "kernelspec": {
   "display_name": "Python 3 (ipykernel)",
   "language": "python",
   "name": "python3"
  },
  "language_info": {
   "codemirror_mode": {
    "name": "ipython",
    "version": 3
   },
   "file_extension": ".py",
   "mimetype": "text/x-python",
   "name": "python",
   "nbconvert_exporter": "python",
   "pygments_lexer": "ipython3",
   "version": "3.9.13"
  }
 },
 "nbformat": 4,
 "nbformat_minor": 5
}
