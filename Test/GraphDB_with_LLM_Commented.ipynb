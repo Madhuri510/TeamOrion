{
 "cells": [
  {
   "cell_type": "code",
   "execution_count": null,
   "metadata": {
    "colab": {
     "base_uri": "https://localhost:8080/"
    },
    "id": "PAj8QRkgerQk",
    "outputId": "7b151873-ce47-4dda-8b4e-eb38cfb87be5"
   },
   "outputs": [
    {
     "name": "stdout",
     "output_type": "stream",
     "text": [
      "\u001b[2K     \u001b[90m━━━━━━━━━━━━━━━━━━━━━━━━━━━━━━━━━━━━━━━━\u001b[0m \u001b[32m50.4/50.4 kB\u001b[0m \u001b[31m3.5 MB/s\u001b[0m eta \u001b[36m0:00:00\u001b[0m\n",
      "\u001b[2K   \u001b[90m━━━━━━━━━━━━━━━━━━━━━━━━━━━━━━━━━━━━━━━━\u001b[0m \u001b[32m1.0/1.0 MB\u001b[0m \u001b[31m26.8 MB/s\u001b[0m eta \u001b[36m0:00:00\u001b[0m\n",
      "\u001b[2K   \u001b[90m━━━━━━━━━━━━━━━━━━━━━━━━━━━━━━━━━━━━━━━━\u001b[0m \u001b[32m2.3/2.3 MB\u001b[0m \u001b[31m78.4 MB/s\u001b[0m eta \u001b[36m0:00:00\u001b[0m\n",
      "\u001b[2K   \u001b[90m━━━━━━━━━━━━━━━━━━━━━━━━━━━━━━━━━━━━━━━━\u001b[0m \u001b[32m294.6/294.6 kB\u001b[0m \u001b[31m22.8 MB/s\u001b[0m eta \u001b[36m0:00:00\u001b[0m\n",
      "\u001b[2K   \u001b[90m━━━━━━━━━━━━━━━━━━━━━━━━━━━━━━━━━━━━━━━━\u001b[0m \u001b[32m106.5/106.5 kB\u001b[0m \u001b[31m8.7 MB/s\u001b[0m eta \u001b[36m0:00:00\u001b[0m\n",
      "\u001b[2K   \u001b[90m━━━━━━━━━━━━━━━━━━━━━━━━━━━━━━━━━━━━━━━━\u001b[0m \u001b[32m396.4/396.4 kB\u001b[0m \u001b[31m26.9 MB/s\u001b[0m eta \u001b[36m0:00:00\u001b[0m\n",
      "\u001b[2K   \u001b[90m━━━━━━━━━━━━━━━━━━━━━━━━━━━━━━━━━━━━━━━━\u001b[0m \u001b[32m290.0/290.0 kB\u001b[0m \u001b[31m23.0 MB/s\u001b[0m eta \u001b[36m0:00:00\u001b[0m\n",
      "\u001b[2K   \u001b[90m━━━━━━━━━━━━━━━━━━━━━━━━━━━━━━━━━━━━━━━━\u001b[0m \u001b[32m76.4/76.4 kB\u001b[0m \u001b[31m5.9 MB/s\u001b[0m eta \u001b[36m0:00:00\u001b[0m\n",
      "\u001b[2K   \u001b[90m━━━━━━━━━━━━━━━━━━━━━━━━━━━━━━━━━━━━━━━━\u001b[0m \u001b[32m77.9/77.9 kB\u001b[0m \u001b[31m6.2 MB/s\u001b[0m eta \u001b[36m0:00:00\u001b[0m\n",
      "\u001b[2K   \u001b[90m━━━━━━━━━━━━━━━━━━━━━━━━━━━━━━━━━━━━━━━━\u001b[0m \u001b[32m49.3/49.3 kB\u001b[0m \u001b[31m4.0 MB/s\u001b[0m eta \u001b[36m0:00:00\u001b[0m\n",
      "\u001b[2K   \u001b[90m━━━━━━━━━━━━━━━━━━━━━━━━━━━━━━━━━━━━━━━━\u001b[0m \u001b[32m141.9/141.9 kB\u001b[0m \u001b[31m11.5 MB/s\u001b[0m eta \u001b[36m0:00:00\u001b[0m\n",
      "\u001b[2K   \u001b[90m━━━━━━━━━━━━━━━━━━━━━━━━━━━━━━━━━━━━━━━━\u001b[0m \u001b[32m58.3/58.3 kB\u001b[0m \u001b[31m4.6 MB/s\u001b[0m eta \u001b[36m0:00:00\u001b[0m\n",
      "\u001b[?25h"
     ]
    }
   ],
   "source": [
    "# Install the required Python libraries for LangChain, Neo4j, and related integrations.\n",
    "!pip install --upgrade --quiet langchain langchain-community langchain-groq neo4j\n"
   ]
  },
  {
   "cell_type": "code",
   "execution_count": null,
   "metadata": {
    "id": "E0b6jmW-fvCL"
   },
   "outputs": [],
   "source": [
    "# Define the Neo4j database connection parameters.\n",
    "# Replace these placeholders with your actual Neo4j URI, username, and password.\n",
    "NEO4J_URI = \"neo4j+s://<your-database-uri>\"\n",
    "NEO4J_USERNAME = \"<your-username>\"\n",
    "NEO4J_PASSWORD = \"<your-password>\"\n"
   ]
  },
  {
   "cell_type": "code",
   "execution_count": null,
   "metadata": {
    "id": "AuOhuTW1gQdy"
   },
   "outputs": [],
   "source": [
    "# Define the Neo4j database connection parameters.\n",
    "# Replace these placeholders with your actual Neo4j URI, username, and password.\n",
    "NEO4J_URI = \"neo4j+s://<your-database-uri>\"\n",
    "NEO4J_USERNAME = \"<your-username>\"\n",
    "NEO4J_PASSWORD = \"<your-password>\"\n"
   ]
  },
  {
   "cell_type": "code",
   "execution_count": null,
   "metadata": {
    "id": "eSZg_2Uzgjfj"
   },
   "outputs": [],
   "source": [
    "# Define the Neo4j database connection parameters.\n",
    "# Replace these placeholders with your actual Neo4j URI, username, and password.\n",
    "NEO4J_URI = \"neo4j+s://<your-database-uri>\"\n",
    "NEO4J_USERNAME = \"<your-username>\"\n",
    "NEO4J_PASSWORD = \"<your-password>\"\n"
   ]
  },
  {
   "cell_type": "code",
   "execution_count": null,
   "metadata": {
    "colab": {
     "base_uri": "https://localhost:8080/"
    },
    "id": "oLUR2QPhgt4R",
    "outputId": "87aad5e8-ca8f-4bb6-a026-97abc47a77e3"
   },
   "outputs": [
    {
     "data": {
      "text/plain": [
       "<langchain_community.graphs.neo4j_graph.Neo4jGraph at 0x7cb1d410b0a0>"
      ]
     },
     "execution_count": 8,
     "metadata": {},
     "output_type": "execute_result"
    }
   ],
   "source": [
    "graph"
   ]
  },
  {
   "cell_type": "code",
   "execution_count": null,
   "metadata": {
    "id": "k-I-x2uOg1aQ"
   },
   "outputs": [],
   "source": [
    "# Set up your Groq API key for using the Groq model.\n",
    "groq_api_key = \"<your-groq-api-key>\"\n"
   ]
  },
  {
   "cell_type": "code",
   "execution_count": null,
   "metadata": {
    "id": "EMlI4z2Vi84P"
   },
   "outputs": [],
   "source": [
    "# Import and initialize the ChatGroq language model.\n",
    "from langchain_groq import ChatGroq\n",
    "llm = ChatGroq(groq_api_key=groq_api_key, model_name=\"llama3-8b-8192\")\n"
   ]
  },
  {
   "cell_type": "code",
   "execution_count": null,
   "metadata": {
    "colab": {
     "base_uri": "https://localhost:8080/"
    },
    "id": "ddYHpowejEvU",
    "outputId": "7a2a2e1e-b4b5-4e08-a11b-0f307caf8b67"
   },
   "outputs": [
    {
     "data": {
      "text/plain": [
       "ChatGroq(client=<groq.resources.chat.completions.Completions object at 0x7cb1959b6260>, async_client=<groq.resources.chat.completions.AsyncCompletions object at 0x7cb19598b730>, model_name='llama3-8b-8192', groq_api_key=SecretStr('**********'))"
      ]
     },
     "execution_count": 11,
     "metadata": {},
     "output_type": "execute_result"
    }
   ],
   "source": [
    "# Set up your Groq API key for using the Groq model.\n",
    "groq_api_key = \"<your-groq-api-key>\"\n"
   ]
  },
  {
   "cell_type": "code",
   "execution_count": null,
   "metadata": {
    "id": "2ocTWdU8jkGq"
   },
   "outputs": [],
   "source": [
    "# Import the Document class and prepare a sample document for testing.\n",
    "from langchain_core.documents import Document\n",
    "text = \"\"\"<Insert your text here>\"\"\"\n",
    "\n",
    "# Convert the text into a document object.\n",
    "documents = [Document(page_content=text)]\n"
   ]
  },
  {
   "cell_type": "code",
   "execution_count": null,
   "metadata": {
    "colab": {
     "base_uri": "https://localhost:8080/"
    },
    "id": "sbSIOnjBjlDg",
    "outputId": "e00a6673-81a3-4399-e0ac-e628e3149e2e"
   },
   "outputs": [
    {
     "data": {
      "text/plain": [
       "[Document(page_content=\"\\nPichai Sundararajan (born June 10, 1972), better known as Sundar Pichai, is an Indian-born American business executive.\\nHe is the chief executive officer (CEO) of Alphabet Inc. and its subsidiary Google.\\nPichai began his career as a materials engineer. Following a short stint at the management consulting firm McKinsey & Co., Pichai joined Google in 2004, where he led the product management and innovation efforts for a suite of Google's client software products, including Google Chrome and ChromeOS, as well as being largely responsible for Google Drive. \\nIn addition, he went on to oversee the development of other applications such as Gmail and Google Maps. In 2010, Pichai also announced the open-sourcing of the new video codec VP8 by Google and introduced the new video format, WebM. The Chromebook was released in 2012. In 2013, Pichai added Android to the list of Google products that he oversaw.\\nPichai was selected to become the next CEO of Google on August 10, 2015, after previously being appointed Product Chief by the then CEO Larry Page. \\nOn October 24, 2015, he stepped into the new position at the completion of the formation of Alphabet Inc., the new holding company for the Google company family. He was appointed to the Alphabet Board of Directors in 2017.\\nPichai was included in Time's annual list of the 100 most influential people in 2016 and 2020.\\n\")]"
      ]
     },
     "execution_count": 14,
     "metadata": {},
     "output_type": "execute_result"
    }
   ],
   "source": [
    "documents"
   ]
  },
  {
   "cell_type": "code",
   "execution_count": null,
   "metadata": {
    "colab": {
     "base_uri": "https://localhost:8080/"
    },
    "id": "j1bgVT52lnlN",
    "outputId": "3c8b55e0-ef00-4a7f-b559-4a4450861ad1"
   },
   "outputs": [
    {
     "name": "stdout",
     "output_type": "stream",
     "text": [
      "\u001b[?25l   \u001b[90m━━━━━━━━━━━━━━━━━━━━━━━━━━━━━━━━━━━━━━━━\u001b[0m \u001b[32m0.0/207.2 kB\u001b[0m \u001b[31m?\u001b[0m eta \u001b[36m-:--:--\u001b[0m\r",
      "\u001b[2K   \u001b[91m━━━━━━━━━━━━━━━━━━━━━━━━━━━━━━━━━━━━━━━\u001b[0m\u001b[91m╸\u001b[0m \u001b[32m204.8/207.2 kB\u001b[0m \u001b[31m6.2 MB/s\u001b[0m eta \u001b[36m0:00:01\u001b[0m\r",
      "\u001b[2K   \u001b[90m━━━━━━━━━━━━━━━━━━━━━━━━━━━━━━━━━━━━━━━━\u001b[0m \u001b[32m207.2/207.2 kB\u001b[0m \u001b[31m4.5 MB/s\u001b[0m eta \u001b[36m0:00:00\u001b[0m\n",
      "\u001b[?25h"
     ]
    }
   ],
   "source": [
    "# Install the required Python libraries for LangChain, Neo4j, and related integrations.\n",
    "!pip install --upgrade --quiet langchain langchain-community langchain-groq neo4j\n"
   ]
  },
  {
   "cell_type": "code",
   "execution_count": null,
   "metadata": {
    "id": "gE_cSTUzjk4E"
   },
   "outputs": [],
   "source": [
    "from langchain_experimental.graph_transformers import LLMGraphTransformer\n",
    "llm_transformer=LLMGraphTransformer(llm=llm)"
   ]
  },
  {
   "cell_type": "code",
   "execution_count": null,
   "metadata": {
    "id": "7nDRT_Z3jkzt"
   },
   "outputs": [],
   "source": [
    "# Use the LLM-based transformer to convert documents into graph structures.\n",
    "from langchain_experimental.graph_transformers import LLMGraphTransformer\n",
    "llm_transformer = LLMGraphTransformer(llm=llm)\n",
    "graph_documents = llm_transformer.convert_to_graph_documents(documents)\n"
   ]
  },
  {
   "cell_type": "code",
   "execution_count": null,
   "metadata": {
    "colab": {
     "base_uri": "https://localhost:8080/"
    },
    "id": "ygp3eg84jkwu",
    "outputId": "0fcead05-199c-4c89-e119-721dcc8748cd"
   },
   "outputs": [
    {
     "data": {
      "text/plain": [
       "[GraphDocument(nodes=[Node(id='Pichai Sundararajan', type='Person'), Node(id='Larry Page', type='Person')], relationships=[Relationship(source=Node(id='Pichai Sundararajan', type='Person'), target=Node(id='Larry Page', type='Person'), type='PROFESSOR'), Relationship(source=Node(id='Pichai Sundararajan', type='Person'), target=Node(id='Alphabet Inc.', type='Organization'), type='CEO'), Relationship(source=Node(id='Pichai Sundararajan', type='Person'), target=Node(id='Google', type='Organization'), type='CEO'), Relationship(source=Node(id='Pichai Sundararajan', type='Person'), target=Node(id='Time', type='Organization'), type='INFLUENTIAL_PERSON')], source=Document(page_content=\"\\nPichai Sundararajan (born June 10, 1972), better known as Sundar Pichai, is an Indian-born American business executive.\\nHe is the chief executive officer (CEO) of Alphabet Inc. and its subsidiary Google.\\nPichai began his career as a materials engineer. Following a short stint at the management consulting firm McKinsey & Co., Pichai joined Google in 2004, where he led the product management and innovation efforts for a suite of Google's client software products, including Google Chrome and ChromeOS, as well as being largely responsible for Google Drive. \\nIn addition, he went on to oversee the development of other applications such as Gmail and Google Maps. In 2010, Pichai also announced the open-sourcing of the new video codec VP8 by Google and introduced the new video format, WebM. The Chromebook was released in 2012. In 2013, Pichai added Android to the list of Google products that he oversaw.\\nPichai was selected to become the next CEO of Google on August 10, 2015, after previously being appointed Product Chief by the then CEO Larry Page. \\nOn October 24, 2015, he stepped into the new position at the completion of the formation of Alphabet Inc., the new holding company for the Google company family. He was appointed to the Alphabet Board of Directors in 2017.\\nPichai was included in Time's annual list of the 100 most influential people in 2016 and 2020.\\n\"))]"
      ]
     },
     "execution_count": 18,
     "metadata": {},
     "output_type": "execute_result"
    }
   ],
   "source": [
    "graph_documents"
   ]
  },
  {
   "cell_type": "code",
   "execution_count": null,
   "metadata": {
    "colab": {
     "base_uri": "https://localhost:8080/"
    },
    "id": "1QlakkEjmlar",
    "outputId": "76369c74-b2e3-4506-dbb8-937b64b230e0"
   },
   "outputs": [
    {
     "data": {
      "text/plain": [
       "[Node(id='Pichai Sundararajan', type='Person'),\n",
       " Node(id='Larry Page', type='Person')]"
      ]
     },
     "execution_count": 21,
     "metadata": {},
     "output_type": "execute_result"
    }
   ],
   "source": [
    "graph_documents[0].nodes"
   ]
  },
  {
   "cell_type": "code",
   "execution_count": null,
   "metadata": {
    "colab": {
     "base_uri": "https://localhost:8080/"
    },
    "id": "oaaCCLVbmzu0",
    "outputId": "4786fe88-69c2-42ba-dbf5-714537e2d715"
   },
   "outputs": [
    {
     "data": {
      "text/plain": [
       "[Relationship(source=Node(id='Pichai Sundararajan', type='Person'), target=Node(id='Larry Page', type='Person'), type='PROFESSOR'),\n",
       " Relationship(source=Node(id='Pichai Sundararajan', type='Person'), target=Node(id='Alphabet Inc.', type='Organization'), type='CEO'),\n",
       " Relationship(source=Node(id='Pichai Sundararajan', type='Person'), target=Node(id='Google', type='Organization'), type='CEO'),\n",
       " Relationship(source=Node(id='Pichai Sundararajan', type='Person'), target=Node(id='Time', type='Organization'), type='INFLUENTIAL_PERSON')]"
      ]
     },
     "execution_count": 22,
     "metadata": {},
     "output_type": "execute_result"
    }
   ],
   "source": [
    "graph_documents[0].relationships"
   ]
  },
  {
   "cell_type": "code",
   "execution_count": null,
   "metadata": {
    "id": "DsFZTaAAmzsG"
   },
   "outputs": [],
   "source": [
    "##Loading a movie dataset"
   ]
  },
  {
   "cell_type": "code",
   "execution_count": null,
   "metadata": {
    "id": "kc9FRk4vmzoO"
   },
   "outputs": [],
   "source": [
    "# Example Cypher query to load a dataset into the Neo4j graph.\n",
    "movie_query = \"\"\"\n",
    "LOAD CSV WITH HEADERS FROM\n",
    "'https://raw.githubusercontent.com/tomasonjo/blog-datasets/main/movies/movies_small.csv' AS row\n",
    "\n",
    "MERGE (m:Movie {id: row.movieId})\n",
    "SET m.released = date(row.released),\n",
    "    m.title = row.title,\n",
    "    m.imdbRating = toFloat(row.imdbRating)\n",
    "\n",
    "FOREACH (director IN split(row.director, '|') |\n",
    "    MERGE (p:Person {name: trim(director)})\n",
    "    MERGE (p)-[:DIRECTED]->(m))\n",
    "\n",
    "FOREACH (actor IN split(row.actors, '|') |\n",
    "    MERGE (p:Person {name: trim(actor)})\n",
    "    MERGE (p)-[:ACTED_IN]->(m))\n",
    "\n",
    "FOREACH (genre IN split(row.genres, '|') |\n",
    "    MERGE (g:Genre {name: trim(genre)})\n",
    "    MERGE (m)-[:IN_GENRE]->(g))\n",
    "\"\"\"\n"
   ]
  },
  {
   "cell_type": "code",
   "execution_count": null,
   "metadata": {
    "colab": {
     "base_uri": "https://localhost:8080/"
    },
    "id": "Rde89gk7mzbG",
    "outputId": "67548c4b-c8a2-439b-eebd-e2b5b40fa17d"
   },
   "outputs": [
    {
     "data": {
      "text/plain": [
       "<langchain_community.graphs.neo4j_graph.Neo4jGraph at 0x7cb1d410b0a0>"
      ]
     },
     "execution_count": 25,
     "metadata": {},
     "output_type": "execute_result"
    }
   ],
   "source": [
    "graph"
   ]
  },
  {
   "cell_type": "code",
   "execution_count": null,
   "metadata": {
    "colab": {
     "base_uri": "https://localhost:8080/"
    },
    "id": "zzvm_K45nVev",
    "outputId": "2aa5cb79-72e1-4e98-ab53-41be308d9548"
   },
   "outputs": [
    {
     "data": {
      "text/plain": [
       "[]"
      ]
     },
     "execution_count": 26,
     "metadata": {},
     "output_type": "execute_result"
    }
   ],
   "source": [
    "graph.query(movie_query)"
   ]
  },
  {
   "cell_type": "code",
   "execution_count": null,
   "metadata": {
    "colab": {
     "base_uri": "https://localhost:8080/"
    },
    "id": "KeSI5oiInVWd",
    "outputId": "a9bbfc91-3246-45d7-bcfe-47347f7c00ca"
   },
   "outputs": [
    {
     "name": "stdout",
     "output_type": "stream",
     "text": [
      "Node properties:\n",
      "Person {born: INTEGER, name: STRING}\n",
      "Movie {title: STRING, released: INTEGER, id: STRING, imdbRating: FLOAT}\n",
      "Genre {name: STRING}\n",
      "Relationship properties:\n",
      "\n",
      "The relationships:\n",
      "(:Person)-[:ACTED_IN]->(:Movie)\n",
      "(:Person)-[:DIRECTED]->(:Movie)\n",
      "(:Movie)-[:IN_GENRE]->(:Genre)\n"
     ]
    }
   ],
   "source": [
    "graph.refresh_schema()\n",
    "print(graph.schema)"
   ]
  },
  {
   "cell_type": "code",
   "execution_count": null,
   "metadata": {
    "colab": {
     "base_uri": "https://localhost:8080/"
    },
    "id": "wzFNafc0nVT8",
    "outputId": "4609d8ca-82f1-43c9-e65f-d8c53e4541e5"
   },
   "outputs": [
    {
     "data": {
      "text/plain": [
       "GraphCypherQAChain(verbose=True, graph=<langchain_community.graphs.neo4j_graph.Neo4jGraph object at 0x7cb1d410b0a0>, cypher_generation_chain=LLMChain(prompt=PromptTemplate(input_variables=['question', 'schema'], template='Task:Generate Cypher statement to query a graph database.\\nInstructions:\\nUse only the provided relationship types and properties in the schema.\\nDo not use any other relationship types or properties that are not provided.\\nSchema:\\n{schema}\\nNote: Do not include any explanations or apologies in your responses.\\nDo not respond to any questions that might ask anything else than for you to construct a Cypher statement.\\nDo not include any text except the generated Cypher statement.\\n\\nThe question is:\\n{question}'), llm=ChatGroq(client=<groq.resources.chat.completions.Completions object at 0x7cb1959b6260>, async_client=<groq.resources.chat.completions.AsyncCompletions object at 0x7cb19598b730>, model_name='llama3-8b-8192', groq_api_key=SecretStr('**********'))), qa_chain=LLMChain(prompt=PromptTemplate(input_variables=['context', 'question'], template=\"You are an assistant that helps to form nice and human understandable answers.\\nThe information part contains the provided information that you must use to construct an answer.\\nThe provided information is authoritative, you must never doubt it or try to use your internal knowledge to correct it.\\nMake the answer sound as a response to the question. Do not mention that you based the result on the given information.\\nHere is an example:\\n\\nQuestion: Which managers own Neo4j stocks?\\nContext:[manager:CTL LLC, manager:JANE STREET GROUP LLC]\\nHelpful Answer: CTL LLC, JANE STREET GROUP LLC owns Neo4j stocks.\\n\\nFollow this example when generating answers.\\nIf the provided information is empty, say that you don't know the answer.\\nInformation:\\n{context}\\n\\nQuestion: {question}\\nHelpful Answer:\"), llm=ChatGroq(client=<groq.resources.chat.completions.Completions object at 0x7cb1959b6260>, async_client=<groq.resources.chat.completions.AsyncCompletions object at 0x7cb19598b730>, model_name='llama3-8b-8192', groq_api_key=SecretStr('**********'))), graph_schema='Node properties are the following:\\nPerson {born: INTEGER, name: STRING},Movie {title: STRING, released: INTEGER, id: STRING, imdbRating: FLOAT},Genre {name: STRING}\\nRelationship properties are the following:\\n\\nThe relationships are the following:\\n(:Person)-[:ACTED_IN]->(:Movie),(:Person)-[:DIRECTED]->(:Movie),(:Movie)-[:IN_GENRE]->(:Genre)')"
      ]
     },
     "execution_count": 28,
     "metadata": {},
     "output_type": "execute_result"
    }
   ],
   "source": [
    "# Set up a question-answering chain using the Neo4j graph.\n",
    "from langchain.chains import GraphCypherQAChain\n",
    "chain = GraphCypherQAChain.from_llm(llm=llm, graph=graph, verbose=True)\n"
   ]
  },
  {
   "cell_type": "code",
   "execution_count": null,
   "metadata": {
    "colab": {
     "base_uri": "https://localhost:8080/"
    },
    "id": "qWj0p77_nVRW",
    "outputId": "b90b2b82-c6f1-4a6b-e3d1-5571d53361d8"
   },
   "outputs": [
    {
     "name": "stdout",
     "output_type": "stream",
     "text": [
      "\n",
      "\n",
      "\u001b[1m> Entering new GraphCypherQAChain chain...\u001b[0m\n",
      "Generated Cypher:\n",
      "\u001b[32;1m\u001b[1;3mMATCH (p:Person {name: \"Vedant Limbhare\"}) RETURN p;\u001b[0m\n",
      "Full Context:\n",
      "\u001b[32;1m\u001b[1;3m[{'p': {'born': 1998, 'name': 'Vedant Limbhare'}}]\u001b[0m\n",
      "\n",
      "\u001b[1m> Finished chain.\u001b[0m\n"
     ]
    },
    {
     "data": {
      "text/plain": [
       "{'query': 'Who is Vedant Limbhare',\n",
       " 'result': 'Vedant Limbhare was born in 1998.'}"
      ]
     },
     "execution_count": 33,
     "metadata": {},
     "output_type": "execute_result"
    }
   ],
   "source": [
    "# Query the graph using natural language and obtain results.\n",
    "response = chain.invoke({\"query\": \"Who are the actors in Four Rooms?\"})\n",
    "response\n"
   ]
  },
  {
   "cell_type": "code",
   "execution_count": null,
   "metadata": {
    "colab": {
     "base_uri": "https://localhost:8080/"
    },
    "id": "F0rRxZyOsj_v",
    "outputId": "06171a15-5431-49e8-8abe-a1a22121b20a"
   },
   "outputs": [
    {
     "name": "stdout",
     "output_type": "stream",
     "text": [
      "\n",
      "\n",
      "\u001b[1m> Entering new GraphCypherQAChain chain...\u001b[0m\n",
      "Generated Cypher:\n",
      "\u001b[32;1m\u001b[1;3mMATCH (p:Person)-[:ACTED_IN]->(m:Movie) \n",
      "WHERE m.title = \"Four Rooms\" \n",
      "RETURN p.name AS Actor;\u001b[0m\n",
      "Full Context:\n",
      "\u001b[32;1m\u001b[1;3m[{'Actor': 'Amanda De Cadenet'}, {'Actor': 'Valeria Golino'}, {'Actor': 'Madonna'}, {'Actor': 'Sammi Davis'}]\u001b[0m\n",
      "\n",
      "\u001b[1m> Finished chain.\u001b[0m\n"
     ]
    },
    {
     "data": {
      "text/plain": [
       "{'query': 'Who are the Actors in Four Rooms',\n",
       " 'result': 'Amanda De Cadenet, Valeria Golino, Madonna, Sammi Davis.'}"
      ]
     },
     "execution_count": 38,
     "metadata": {},
     "output_type": "execute_result"
    }
   ],
   "source": [
    "# Query the graph using natural language and obtain results.\n",
    "response = chain.invoke({\"query\": \"Who are the actors in Four Rooms?\"})\n",
    "response\n"
   ]
  },
  {
   "cell_type": "code",
   "execution_count": null,
   "metadata": {
    "id": "Wms5xTqOsj9F"
   },
   "outputs": [],
   "source": []
  },
  {
   "cell_type": "code",
   "execution_count": null,
   "metadata": {
    "id": "eggFPP3Nsj6I"
   },
   "outputs": [],
   "source": []
  },
  {
   "cell_type": "code",
   "execution_count": null,
   "metadata": {
    "id": "oyGlcivEsjz-"
   },
   "outputs": [],
   "source": []
  },
  {
   "cell_type": "code",
   "execution_count": null,
   "metadata": {
    "id": "_7W_NOGXsjmV"
   },
   "outputs": [],
   "source": []
  }
 ],
 "metadata": {
  "accelerator": "GPU",
  "colab": {
   "gpuType": "T4",
   "provenance": []
  },
  "kernelspec": {
   "display_name": "Python 3",
   "name": "python3"
  },
  "language_info": {
   "name": "python"
  }
 },
 "nbformat": 4,
 "nbformat_minor": 0
}
