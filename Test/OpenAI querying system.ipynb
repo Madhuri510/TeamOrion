{
 "cells": [
  {
   "cell_type": "code",
   "execution_count": 1,
   "id": "9f0f0adf-6c9e-4100-adc6-078fc18a6fe7",
   "metadata": {},
   "outputs": [
    {
     "name": "stdout",
     "output_type": "stream",
     "text": [
      "Requirement already satisfied: openai==0.28 in /Users/vedant/miniforge3/lib/python3.10/site-packages (0.28.0)\n",
      "Requirement already satisfied: requests>=2.20 in /Users/vedant/miniforge3/lib/python3.10/site-packages (from openai==0.28) (2.31.0)\n",
      "Requirement already satisfied: tqdm in /Users/vedant/miniforge3/lib/python3.10/site-packages (from openai==0.28) (4.66.1)\n",
      "Requirement already satisfied: aiohttp in /Users/vedant/miniforge3/lib/python3.10/site-packages (from openai==0.28) (3.8.6)\n",
      "Requirement already satisfied: charset-normalizer<4,>=2 in /Users/vedant/miniforge3/lib/python3.10/site-packages (from requests>=2.20->openai==0.28) (3.3.0)\n",
      "Requirement already satisfied: idna<4,>=2.5 in /Users/vedant/miniforge3/lib/python3.10/site-packages (from requests>=2.20->openai==0.28) (3.4)\n",
      "Requirement already satisfied: urllib3<3,>=1.21.1 in /Users/vedant/miniforge3/lib/python3.10/site-packages (from requests>=2.20->openai==0.28) (1.26.17)\n",
      "Requirement already satisfied: certifi>=2017.4.17 in /Users/vedant/miniforge3/lib/python3.10/site-packages (from requests>=2.20->openai==0.28) (2023.7.22)\n",
      "Requirement already satisfied: attrs>=17.3.0 in /Users/vedant/miniforge3/lib/python3.10/site-packages (from aiohttp->openai==0.28) (23.1.0)\n",
      "Requirement already satisfied: multidict<7.0,>=4.5 in /Users/vedant/miniforge3/lib/python3.10/site-packages (from aiohttp->openai==0.28) (6.0.4)\n",
      "Requirement already satisfied: async-timeout<5.0,>=4.0.0a3 in /Users/vedant/miniforge3/lib/python3.10/site-packages (from aiohttp->openai==0.28) (4.0.3)\n",
      "Requirement already satisfied: yarl<2.0,>=1.0 in /Users/vedant/miniforge3/lib/python3.10/site-packages (from aiohttp->openai==0.28) (1.9.2)\n",
      "Requirement already satisfied: frozenlist>=1.1.1 in /Users/vedant/miniforge3/lib/python3.10/site-packages (from aiohttp->openai==0.28) (1.4.0)\n",
      "Requirement already satisfied: aiosignal>=1.1.2 in /Users/vedant/miniforge3/lib/python3.10/site-packages (from aiohttp->openai==0.28) (1.3.1)\n",
      "Note: you may need to restart the kernel to use updated packages.\n"
     ]
    }
   ],
   "source": [
    "pip install openai==0.28"
   ]
  },
  {
   "cell_type": "code",
   "execution_count": 2,
   "id": "40b54049-b249-40c3-b596-293df9e958a2",
   "metadata": {},
   "outputs": [],
   "source": [
    "import openai\n",
    "import os\n",
    "\n",
    "# Set up API key\n",
    "openai.api_key = \"\" #openai key here"
   ]
  },
  {
   "cell_type": "code",
   "execution_count": 3,
   "id": "7babf882-c1e1-4516-a2e3-3a1fa7fe89bb",
   "metadata": {},
   "outputs": [],
   "source": [
    "from neo4j import GraphDatabase\n",
    "\n",
    "# Neo4j setup\n",
    "NEO4J_URI=\"neo4j://localhost:7687\"\n",
    "NEO4J_USERNAME=\"neo4j\"\n",
    "NEO4J_PASSWORD=\"gf6xb4kgeZKSS8p\""
   ]
  },
  {
   "cell_type": "code",
   "execution_count": 4,
   "id": "f5d43b03-1201-454c-9cc1-2858e45d5b7f",
   "metadata": {},
   "outputs": [],
   "source": [
    "# Initialize Neo4j driver\n",
    "neo4j_driver = GraphDatabase.driver(NEO4J_URI, auth=(NEO4J_USERNAME, NEO4J_PASSWORD))\n",
    "\n",
    "# Function to retrieve data from Neo4j\n",
    "def get_neo4j_data(query, parameters=None):\n",
    "    with neo4j_driver.session() as session:\n",
    "        result = session.run(query, parameters)\n",
    "        return [record.data() for record in result]\n",
    "\n",
    "# Define your Neo4j query\n",
    "neo4j_query = \"\"\"\n",
    "MATCH (n)-[r]->(m)\n",
    "RETURN n.id AS source_id, n.type AS source_type, type(r) AS relationship, m.id AS target_id, m.type AS target_type\n",
    "LIMIT 200\n",
    "\"\"\"\n",
    "\n",
    "# Retrieve data from Neo4j\n",
    "neo4j_data = get_neo4j_data(neo4j_query)\n",
    "\n",
    "neo4j_context = \"\\n\".join([\n",
    "    f\"{record['source_id']} ({record['source_type']}) -[{record['relationship']}]-> {record['target_id']} ({record['target_type']})\"\n",
    "    for record in neo4j_data\n",
    "])"
   ]
  },
  {
   "cell_type": "code",
   "execution_count": 9,
   "id": "a2b29568-03e7-444f-88e5-64cb6e565702",
   "metadata": {},
   "outputs": [
    {
     "name": "stdout",
     "output_type": "stream",
     "text": [
      "Here is some information on Breast cancer from the knowledge graph data:\n",
      "\n",
      "- Breast cancer (Medical condition) may be treated with trastuzumab (Medication), chemotherapy, surgical intervention, radiation therapy, hormone therapy, and biological therapy.\n",
      "- Metastatic breast cancer (Medical condition) may be prevented with therapeutic keratoplasty and ocular surface therapy.\n",
      "- Triple negative breast carcinoma (Medical condition) may be treated with chemotherapy and sacituzumab govitecan (Medication).\n",
      "- Luminal B (Medical condition) may develop into triple negative breast carcinoma.\n",
      "- Monoclonal antibody drug conjugate sacituzumab govitecan (Medication) may cause adverse events in elderly patients and may treat metastatic breast cancer.\n",
      "- Elderly patients may be treated with sacituzumab govitecan for breast cancer.\n",
      "- Breast cancer is associated with the medications trastuzumab deruxtecan, vinpocetine, inavolisib, and canakinumab, among others.\n",
      "- Breast cancer is also associated with the diseases HER2 amplification and EGFR mutations.\n",
      "\n",
      "If you have any specific questions or need more detailed information, feel free to ask!"
     ]
    }
   ],
   "source": [
    "response = openai.ChatCompletion.create(\n",
    "    model=\"gpt-3.5-turbo\", \n",
    "    messages=[\n",
    "        {\"role\": \"system\", \"content\": \"You are an AI assistant with access to Neo4j graph data.\"},\n",
    "        {\"role\": \"user\", \"content\": f\"Using the following graph data:\\n{neo4j_context}\\n\\nInformation on Breast cancer in Knowledge graph\"}\n",
    "    ],\n",
    "    max_tokens=1500,  \n",
    "    temperature=0.7,\n",
    "    top_p=1,\n",
    "    stream=True,\n",
    "    stop=None,\n",
    ")\n",
    "\n",
    "for chunk in response:\n",
    "    if 'content' in chunk['choices'][0]['delta']:\n",
    "        print(chunk['choices'][0]['delta']['content'], end=\"\")"
   ]
  },
  {
   "cell_type": "code",
   "execution_count": null,
   "id": "e213017a-64a9-44a3-862c-5c8558a00d95",
   "metadata": {},
   "outputs": [],
   "source": []
  }
 ],
 "metadata": {
  "kernelspec": {
   "display_name": "Python 3 (ipykernel)",
   "language": "python",
   "name": "python3"
  },
  "language_info": {
   "codemirror_mode": {
    "name": "ipython",
    "version": 3
   },
   "file_extension": ".py",
   "mimetype": "text/x-python",
   "name": "python",
   "nbconvert_exporter": "python",
   "pygments_lexer": "ipython3",
   "version": "3.10.13"
  }
 },
 "nbformat": 4,
 "nbformat_minor": 5
}
