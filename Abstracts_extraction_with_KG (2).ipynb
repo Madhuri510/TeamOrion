{
  "cells": [
    {
      "cell_type": "code",
      "execution_count": 3,
      "id": "946c4ccb",
      "metadata": {
        "id": "946c4ccb"
      },
      "outputs": [],
      "source": [
        "import time\n",
        "import requests\n",
        "import xml.etree.ElementTree as ET\n",
        "import csv\n",
        "import pandas as pd\n",
        "import json"
      ]
    },
    {
      "cell_type": "code",
      "execution_count": 2,
      "id": "ac94397a",
      "metadata": {
        "id": "ac94397a"
      },
      "outputs": [],
      "source": [
        "abstract_ids=['39333227', '39330834', '39327961', '39327433', '39326941',\n",
        "                '39326936', '39324708', '39320566', '39318033', '39315544']"
      ]
    },
    {
      "cell_type": "code",
      "execution_count": 3,
      "id": "bb2ed1a1",
      "metadata": {
        "id": "bb2ed1a1"
      },
      "outputs": [],
      "source": [
        "def fetch_mesh_terms(pmid):\n",
        "    url = f\"https://eutils.ncbi.nlm.nih.gov/entrez/eutils/esummary.fcgi?db=pubmed&id={pmid}&retmode=json\"\n",
        "    response = requests.get(url)\n",
        "    if response.status_code == 200:\n",
        "        data = response.json()\n",
        "        if pmid in data['result']:\n",
        "            mesh_heading_list = data['result'][pmid].get('meshheadinglist', [])\n",
        "            return mesh_heading_list\n",
        "    return []"
      ]
    },
    {
      "cell_type": "code",
      "execution_count": 4,
      "id": "964540ee",
      "metadata": {
        "id": "964540ee"
      },
      "outputs": [],
      "source": [
        "def filter_mesh_terms(mesh_terms, keywords):\n",
        "    relevant_terms = [term['name'] for term in mesh_terms if any(keyword in term['name'] for keyword in keywords)]\n",
        "    return relevant_terms"
      ]
    },
    {
      "cell_type": "code",
      "execution_count": 5,
      "id": "6e682d1f",
      "metadata": {
        "colab": {
          "base_uri": "https://localhost:8080/"
        },
        "id": "6e682d1f",
        "outputId": "4107a42e-c310-4f3e-868c-df4868a9ee99"
      },
      "outputs": [
        {
          "output_type": "execute_result",
          "data": {
            "text/plain": [
              "['39333227',\n",
              " '39330834',\n",
              " '39327961',\n",
              " '39327433',\n",
              " '39326941',\n",
              " '39326936',\n",
              " '39324708',\n",
              " '39320566',\n",
              " '39318033',\n",
              " '39315544']"
            ]
          },
          "metadata": {},
          "execution_count": 5
        }
      ],
      "source": [
        "# Function to search PubMed using E-utilities API for specific keywords\n",
        "def search_pubmed_for_ids(keywords):\n",
        "    # Construct the query using the keywords\n",
        "    query = ' AND '.join(keywords)\n",
        "    search_url = f\"https://eutils.ncbi.nlm.nih.gov/entrez/eutils/esearch.fcgi?db=pubmed&term={query}&retmode=json&retmax=100\"\n",
        "\n",
        "    # Perform the request\n",
        "    response = requests.get(search_url)\n",
        "\n",
        "    # Check for successful response\n",
        "    if response.status_code == 200:\n",
        "        data = response.json()\n",
        "        return data['esearchresult']['idlist']  # Return list of PubMed IDs\n",
        "    else:\n",
        "        print(f\"Failed to retrieve PubMed IDs. Status code: {response.status_code}\")\n",
        "        return []\n",
        "\n",
        "# Example of keyword list\n",
        "keywords = [\"Neoplasms\", \"Antineoplastic Agents\", \"Adverse Effects\", \"Toxicity\"]\n",
        "\n",
        "# Fetch PubMed IDs based on the keywords\n",
        "abstract_ids = search_pubmed_for_ids(keywords)\n",
        "\n",
        "# Display a few PubMed IDs to confirm\n",
        "abstract_ids[:10]  # Display first 10 PubMed IDs\n"
      ]
    },
    {
      "cell_type": "code",
      "execution_count": 6,
      "id": "588df952",
      "metadata": {
        "id": "588df952"
      },
      "outputs": [],
      "source": [
        "# Base URL for fetching PubMed abstracts\n",
        "base_url = \"https://eutils.ncbi.nlm.nih.gov/entrez/eutils/efetch.fcgi\"\n",
        "params = {\n",
        "    'db': 'pubmed',\n",
        "    'rettype': 'abstract',\n",
        "    'retmode': 'xml',\n",
        "    'api_key': 'd4a0e5f85881f5f38b9c0e9a84ac5338e408'\n",
        "}"
      ]
    },
    {
      "cell_type": "code",
      "execution_count": 7,
      "id": "7e06919d",
      "metadata": {
        "colab": {
          "base_uri": "https://localhost:8080/"
        },
        "id": "7e06919d",
        "outputId": "2b96a4a6-afd3-41ed-ac2f-3e245071fb71"
      },
      "outputs": [
        {
          "output_type": "stream",
          "name": "stdout",
          "text": [
            "Extraction completed. Data saved to 'pubmed_abstracts_with_mesh.csv'.\n"
          ]
        }
      ],
      "source": [
        "# Open the CSV file to store PubMed IDs, abstracts, and filtered MeSH terms\n",
        "with open('pubmed_abstracts_with_mesh.csv', mode='w', newline='', encoding='utf-8') as csv_file:\n",
        "    writer = csv.writer(csv_file)\n",
        "    writer.writerow(['PubMedID', 'Abstract', 'Filtered MeSH Terms'])\n",
        "\n",
        "    # Iterate through provided PubMed IDs\n",
        "    for pubmed_id in abstract_ids:\n",
        "        params['id'] = pubmed_id  # Set the PubMed ID in the params dictionary\n",
        "        response = requests.get(base_url, params=params)\n",
        "\n",
        "        if response.status_code == 200:\n",
        "            # Parse the abstract text from XML\n",
        "            try:\n",
        "                root = ET.fromstring(response.text)\n",
        "                abstract_text_elements = root.findall('.//AbstractText')\n",
        "                abstract_texts = ' '.join([element.text for element in abstract_text_elements if element.text])\n",
        "\n",
        "                # Fetch and filter MeSH terms\n",
        "                mesh_terms = fetch_mesh_terms(pubmed_id)\n",
        "                filtered_mesh_terms = filter_mesh_terms(mesh_terms, keywords)\n",
        "\n",
        "                # Write the PubMed ID, abstract, and filtered MeSH terms to the CSV\n",
        "                writer.writerow([pubmed_id, abstract_texts, ', '.join(filtered_mesh_terms)])\n",
        "\n",
        "            except ET.ParseError as e:\n",
        "                print(f\"XML parsing error for PubMed ID {pubmed_id}: {e}\")\n",
        "\n",
        "        else:\n",
        "            print(f\"Failed to fetch abstract for PubMed ID {pubmed_id}. Status code: {response.status_code}\")\n",
        "\n",
        "        time.sleep(1)\n",
        "\n",
        "print(\"Extraction completed. Data saved to 'pubmed_abstracts_with_mesh.csv'.\")"
      ]
    },
    {
      "cell_type": "code",
      "execution_count": 11,
      "id": "7aea1531",
      "metadata": {
        "colab": {
          "base_uri": "https://localhost:8080/"
        },
        "id": "7aea1531",
        "outputId": "dd11230d-a7e9-4daf-dea3-0511d3a5454b"
      },
      "outputs": [
        {
          "output_type": "stream",
          "name": "stderr",
          "text": [
            "Some weights of BertForTokenClassification were not initialized from the model checkpoint at dmis-lab/biobert-base-cased-v1.1 and are newly initialized: ['classifier.bias', 'classifier.weight']\n",
            "You should probably TRAIN this model on a down-stream task to be able to use it for predictions and inference.\n",
            "Asking to truncate to max_length but no maximum length is provided and the model has no predefined maximum length. Default to no truncation.\n"
          ]
        },
        {
          "output_type": "stream",
          "name": "stdout",
          "text": [
            "Entity: although, Label: LABEL_1\n",
            "Entity: anti, Label: LABEL_0\n",
            "Entity: ##body, Label: LABEL_0\n",
            "Entity: -, Label: LABEL_0\n",
            "Entity: drug, Label: LABEL_0\n",
            "Entity: con, Label: LABEL_0\n",
            "Entity: ##ju, Label: LABEL_1\n",
            "Entity: ##gate, Label: LABEL_1\n",
            "Entity: (, Label: LABEL_0\n",
            "Entity: ad, Label: LABEL_0\n",
            "Entity: ##c, Label: LABEL_0\n",
            "Entity: ), Label: LABEL_0\n",
            "Entity: or, Label: LABEL_0\n",
            "Entity: immune, Label: LABEL_0\n",
            "Entity: check, Label: LABEL_0\n",
            "Entity: ##point, Label: LABEL_0\n",
            "Entity: inhibitor, Label: LABEL_1\n",
            "Entity: ##s, Label: LABEL_0\n",
            "Entity: (, Label: LABEL_0\n",
            "Entity: i, Label: LABEL_0\n",
            "Entity: ##cis, Label: LABEL_0\n",
            "Entity: ), Label: LABEL_0\n",
            "Entity: alone, Label: LABEL_0\n",
            "Entity: foster, Label: LABEL_1\n",
            "Entity: ##s, Label: LABEL_0\n",
            "Entity: hope, Label: LABEL_0\n",
            "Entity: for, Label: LABEL_0\n",
            "Entity: the, Label: LABEL_0\n",
            "Entity: treatment, Label: LABEL_0\n",
            "Entity: of, Label: LABEL_1\n",
            "Entity: cancer, Label: LABEL_0\n",
            "Entity: ,, Label: LABEL_0\n",
            "Entity: the, Label: LABEL_0\n",
            "Entity: effect, Label: LABEL_0\n",
            "Entity: of, Label: LABEL_0\n",
            "Entity: single, Label: LABEL_0\n",
            "Entity: drug, Label: LABEL_0\n",
            "Entity: treatment, Label: LABEL_0\n",
            "Entity: is, Label: LABEL_0\n",
            "Entity: limited, Label: LABEL_1\n",
            "Entity: and, Label: LABEL_0\n",
            "Entity: the, Label: LABEL_0\n",
            "Entity: safety, Label: LABEL_0\n",
            "Entity: profile, Label: LABEL_1\n",
            "Entity: of, Label: LABEL_0\n",
            "Entity: ad, Label: LABEL_1\n",
            "Entity: ##c, Label: LABEL_0\n",
            "Entity: and, Label: LABEL_0\n",
            "Entity: i, Label: LABEL_1\n",
            "Entity: ##ci, Label: LABEL_0\n",
            "Entity: therapy, Label: LABEL_0\n",
            "Entity: remains, Label: LABEL_1\n",
            "Entity: unclear, Label: LABEL_1\n",
            "Entity: ., Label: LABEL_0\n",
            "Entity: this, Label: LABEL_0\n",
            "Entity: meta, Label: LABEL_0\n",
            "Entity: -, Label: LABEL_0\n",
            "Entity: analysis, Label: LABEL_0\n",
            "Entity: aimed, Label: LABEL_0\n",
            "Entity: to, Label: LABEL_0\n",
            "Entity: examine, Label: LABEL_1\n",
            "Entity: the, Label: LABEL_0\n",
            "Entity: efficacy, Label: LABEL_0\n",
            "Entity: and, Label: LABEL_1\n",
            "Entity: safety, Label: LABEL_0\n",
            "Entity: of, Label: LABEL_0\n",
            "Entity: the, Label: LABEL_0\n",
            "Entity: combination, Label: LABEL_0\n",
            "Entity: of, Label: LABEL_0\n",
            "Entity: ad, Label: LABEL_1\n",
            "Entity: ##c, Label: LABEL_0\n",
            "Entity: and, Label: LABEL_0\n",
            "Entity: i, Label: LABEL_1\n",
            "Entity: ##ci, Label: LABEL_0\n",
            "Entity: therapy, Label: LABEL_0\n",
            "Entity: ., Label: LABEL_0\n",
            "Entity: this, Label: LABEL_0\n",
            "Entity: study, Label: LABEL_0\n",
            "Entity: type, Label: LABEL_1\n",
            "Entity: is, Label: LABEL_0\n",
            "Entity: a, Label: LABEL_0\n",
            "Entity: systematic, Label: LABEL_0\n",
            "Entity: review, Label: LABEL_0\n",
            "Entity: and, Label: LABEL_0\n",
            "Entity: meta, Label: LABEL_0\n",
            "Entity: -, Label: LABEL_0\n",
            "Entity: analysis, Label: LABEL_0\n",
            "Entity: ., Label: LABEL_0\n",
            "Entity: literature, Label: LABEL_0\n",
            "Entity: re, Label: LABEL_1\n",
            "Entity: ##tri, Label: LABEL_1\n",
            "Entity: ##eval, Label: LABEL_1\n",
            "Entity: was, Label: LABEL_0\n",
            "Entity: carried, Label: LABEL_0\n",
            "Entity: out, Label: LABEL_1\n",
            "Entity: through, Label: LABEL_1\n",
            "Entity: pub, Label: LABEL_1\n",
            "Entity: ##med, Label: LABEL_0\n",
            "Entity: ,, Label: LABEL_1\n",
            "Entity: em, Label: LABEL_0\n",
            "Entity: ##base, Label: LABEL_0\n",
            "Entity: ,, Label: LABEL_0\n",
            "Entity: co, Label: LABEL_1\n",
            "Entity: ##ch, Label: LABEL_0\n",
            "Entity: ##rane, Label: LABEL_1\n",
            "Entity: from, Label: LABEL_1\n",
            "Entity: inception, Label: LABEL_0\n",
            "Entity: to, Label: LABEL_0\n",
            "Entity: j, Label: LABEL_0\n",
            "Entity: ##un, Label: LABEL_1\n",
            "Entity: ., Label: LABEL_1\n",
            "Entity: 5, Label: LABEL_1\n",
            "Entity: ,, Label: LABEL_1\n",
            "Entity: 202, Label: LABEL_0\n",
            "Entity: ##4, Label: LABEL_1\n",
            "Entity: ., Label: LABEL_0\n",
            "Entity: then, Label: LABEL_0\n",
            "Entity: ,, Label: LABEL_0\n",
            "Entity: after, Label: LABEL_0\n",
            "Entity: data, Label: LABEL_1\n",
            "Entity: extraction, Label: LABEL_1\n",
            "Entity: ,, Label: LABEL_0\n",
            "Entity: overall, Label: LABEL_1\n",
            "Entity: response, Label: LABEL_0\n",
            "Entity: rate, Label: LABEL_0\n",
            "Entity: (, Label: LABEL_0\n",
            "Entity: or, Label: LABEL_1\n",
            "Entity: ##r, Label: LABEL_0\n",
            "Entity: ), Label: LABEL_0\n",
            "Entity: and, Label: LABEL_1\n",
            "Entity: adverse, Label: LABEL_1\n",
            "Entity: effects, Label: LABEL_0\n",
            "Entity: (, Label: LABEL_0\n",
            "Entity: a, Label: LABEL_0\n",
            "Entity: ##es, Label: LABEL_0\n",
            "Entity: ), Label: LABEL_0\n",
            "Entity: were, Label: LABEL_0\n",
            "Entity: used, Label: LABEL_0\n",
            "Entity: to, Label: LABEL_0\n",
            "Entity: study, Label: LABEL_0\n",
            "Entity: its, Label: LABEL_1\n",
            "Entity: efficiency, Label: LABEL_0\n",
            "Entity: and, Label: LABEL_1\n",
            "Entity: safety, Label: LABEL_0\n",
            "Entity: ., Label: LABEL_0\n",
            "Entity: publication, Label: LABEL_1\n",
            "Entity: bias, Label: LABEL_0\n",
            "Entity: was, Label: LABEL_0\n",
            "Entity: also, Label: LABEL_0\n",
            "Entity: calculated, Label: LABEL_0\n",
            "Entity: through, Label: LABEL_0\n",
            "Entity: fun, Label: LABEL_0\n",
            "Entity: ##nel, Label: LABEL_0\n",
            "Entity: plot, Label: LABEL_1\n",
            "Entity: ,, Label: LABEL_1\n",
            "Entity: beg, Label: LABEL_0\n",
            "Entity: ##g, Label: LABEL_0\n",
            "Entity: ', Label: LABEL_0\n",
            "Entity: s, Label: LABEL_0\n",
            "Entity: test, Label: LABEL_0\n",
            "Entity: and, Label: LABEL_0\n",
            "Entity: egg, Label: LABEL_0\n",
            "Entity: ##er, Label: LABEL_1\n",
            "Entity: ', Label: LABEL_0\n",
            "Entity: s, Label: LABEL_0\n",
            "Entity: test, Label: LABEL_1\n",
            "Entity: ., Label: LABEL_0\n",
            "Entity: he, Label: LABEL_0\n",
            "Entity: ##tero, Label: LABEL_0\n",
            "Entity: ##gene, Label: LABEL_0\n",
            "Entity: ##ity, Label: LABEL_0\n",
            "Entity: was, Label: LABEL_0\n",
            "Entity: investigated, Label: LABEL_1\n",
            "Entity: through, Label: LABEL_0\n",
            "Entity: subgroup, Label: LABEL_0\n",
            "Entity: and, Label: LABEL_0\n",
            "Entity: sensitivity, Label: LABEL_0\n",
            "Entity: analysis, Label: LABEL_1\n",
            "Entity: ., Label: LABEL_0\n",
            "Entity: the, Label: LABEL_0\n",
            "Entity: research, Label: LABEL_0\n",
            "Entity: protocol, Label: LABEL_0\n",
            "Entity: was, Label: LABEL_0\n",
            "Entity: registered, Label: LABEL_1\n",
            "Entity: with, Label: LABEL_1\n",
            "Entity: the, Label: LABEL_0\n",
            "Entity: pro, Label: LABEL_1\n",
            "Entity: ##sper, Label: LABEL_1\n",
            "Entity: ##o, Label: LABEL_1\n",
            "Entity: (, Label: LABEL_0\n",
            "Entity: c, Label: LABEL_0\n",
            "Entity: ##rd, Label: LABEL_0\n",
            "Entity: ##42, Label: LABEL_0\n",
            "Entity: ##0, Label: LABEL_0\n",
            "Entity: ##23, Label: LABEL_0\n",
            "Entity: ##37, Label: LABEL_0\n",
            "Entity: ##5, Label: LABEL_0\n",
            "Entity: ##60, Label: LABEL_1\n",
            "Entity: ##1, Label: LABEL_1\n",
            "Entity: ), Label: LABEL_0\n",
            "Entity: ., Label: LABEL_0\n",
            "Entity: a, Label: LABEL_0\n",
            "Entity: total, Label: LABEL_0\n",
            "Entity: of, Label: LABEL_1\n",
            "Entity: 12, Label: LABEL_1\n",
            "Entity: eligible, Label: LABEL_1\n",
            "Entity: clinical, Label: LABEL_0\n",
            "Entity: studies, Label: LABEL_0\n",
            "Entity: with, Label: LABEL_0\n",
            "Entity: 58, Label: LABEL_1\n",
            "Entity: ##4, Label: LABEL_1\n",
            "Entity: patients, Label: LABEL_1\n",
            "Entity: were, Label: LABEL_0\n",
            "Entity: included, Label: LABEL_1\n",
            "Entity: ., Label: LABEL_0\n",
            "Entity: the, Label: LABEL_0\n",
            "Entity: pool, Label: LABEL_0\n",
            "Entity: ##ed, Label: LABEL_0\n",
            "Entity: or, Label: LABEL_1\n",
            "Entity: ##r, Label: LABEL_1\n",
            "Entity: was, Label: LABEL_0\n",
            "Entity: 58, Label: LABEL_0\n",
            "Entity: %, Label: LABEL_1\n",
            "Entity: (, Label: LABEL_0\n",
            "Entity: 95, Label: LABEL_0\n",
            "Entity: %, Label: LABEL_1\n",
            "Entity: c, Label: LABEL_1\n",
            "Entity: ##i, Label: LABEL_0\n",
            "Entity: 46, Label: LABEL_0\n",
            "Entity: %, Label: LABEL_1\n",
            "Entity: ,, Label: LABEL_0\n",
            "Entity: 70, Label: LABEL_0\n",
            "Entity: %, Label: LABEL_1\n",
            "Entity: ), Label: LABEL_0\n",
            "Entity: ., Label: LABEL_0\n",
            "Entity: subgroup, Label: LABEL_0\n",
            "Entity: analysis, Label: LABEL_0\n",
            "Entity: showed, Label: LABEL_0\n",
            "Entity: an, Label: LABEL_1\n",
            "Entity: or, Label: LABEL_1\n",
            "Entity: ##r, Label: LABEL_1\n",
            "Entity: of, Label: LABEL_0\n",
            "Entity: 77, Label: LABEL_0\n",
            "Entity: %, Label: LABEL_1\n",
            "Entity: (, Label: LABEL_0\n",
            "Entity: 95, Label: LABEL_0\n",
            "Entity: %, Label: LABEL_1\n",
            "Entity: c, Label: LABEL_1\n",
            "Entity: ##i, Label: LABEL_0\n",
            "Entity: 63, Label: LABEL_0\n",
            "Entity: %, Label: LABEL_0\n",
            "Entity: ,, Label: LABEL_0\n",
            "Entity: 91, Label: LABEL_0\n",
            "Entity: %, Label: LABEL_1\n",
            "Entity: ), Label: LABEL_0\n",
            "Entity: in, Label: LABEL_0\n",
            "Entity: classical, Label: LABEL_0\n",
            "Entity: ho, Label: LABEL_0\n",
            "Entity: ##d, Label: LABEL_0\n",
            "Entity: ##g, Label: LABEL_0\n",
            "Entity: ##kin, Label: LABEL_0\n",
            "Entity: l, Label: LABEL_0\n",
            "Entity: ##ymph, Label: LABEL_0\n",
            "Entity: ##oma, Label: LABEL_1\n",
            "Entity: (, Label: LABEL_0\n",
            "Entity: ch, Label: LABEL_0\n",
            "Entity: ##l, Label: LABEL_0\n",
            "Entity: ), Label: LABEL_0\n",
            "Entity: and, Label: LABEL_0\n",
            "Entity: an, Label: LABEL_1\n",
            "Entity: or, Label: LABEL_1\n",
            "Entity: ##r, Label: LABEL_0\n",
            "Entity: of, Label: LABEL_0\n",
            "Entity: 73, Label: LABEL_0\n",
            "Entity: %, Label: LABEL_1\n",
            "Entity: (, Label: LABEL_0\n",
            "Entity: 95, Label: LABEL_0\n",
            "Entity: %, Label: LABEL_1\n",
            "Entity: c, Label: LABEL_1\n",
            "Entity: ##i, Label: LABEL_0\n",
            "Entity: 56, Label: LABEL_1\n",
            "Entity: %, Label: LABEL_1\n",
            "Entity: ,, Label: LABEL_0\n",
            "Entity: 90, Label: LABEL_0\n",
            "Entity: %, Label: LABEL_1\n",
            "Entity: ), Label: LABEL_0\n",
            "Entity: in, Label: LABEL_0\n",
            "Entity: non, Label: LABEL_0\n",
            "Entity: -, Label: LABEL_0\n",
            "Entity: ho, Label: LABEL_0\n",
            "Entity: ##d, Label: LABEL_0\n",
            "Entity: ##g, Label: LABEL_0\n",
            "Entity: ##kin, Label: LABEL_0\n",
            "Entity: l, Label: LABEL_0\n",
            "Entity: ##ymph, Label: LABEL_0\n",
            "Entity: ##oma, Label: LABEL_1\n",
            "Entity: (, Label: LABEL_0\n",
            "Entity: n, Label: LABEL_0\n",
            "Entity: ##hl, Label: LABEL_1\n",
            "Entity: ), Label: LABEL_0\n",
            "Entity: ., Label: LABEL_0\n",
            "Entity: the, Label: LABEL_0\n",
            "Entity: most, Label: LABEL_1\n",
            "Entity: common, Label: LABEL_1\n",
            "Entity: a, Label: LABEL_0\n",
            "Entity: ##es, Label: LABEL_0\n",
            "Entity: was, Label: LABEL_0\n",
            "Entity: peripheral, Label: LABEL_0\n",
            "Entity: ne, Label: LABEL_0\n",
            "Entity: ##uro, Label: LABEL_0\n",
            "Entity: ##pathy, Label: LABEL_0\n",
            "Entity: (, Label: LABEL_0\n",
            "Entity: 38, Label: LABEL_0\n",
            "Entity: ., Label: LABEL_0\n",
            "Entity: 0, Label: LABEL_0\n",
            "Entity: %, Label: LABEL_1\n",
            "Entity: ), Label: LABEL_0\n",
            "Entity: ., Label: LABEL_0\n",
            "Entity: meanwhile, Label: LABEL_0\n",
            "Entity: ,, Label: LABEL_0\n",
            "Entity: a, Label: LABEL_0\n",
            "Entity: ##es, Label: LABEL_0\n",
            "Entity: on, Label: LABEL_0\n",
            "Entity: skin, Label: LABEL_0\n",
            "Entity: (, Label: LABEL_0\n",
            "Entity: 13, Label: LABEL_1\n",
            "Entity: ., Label: LABEL_0\n",
            "Entity: 1, Label: LABEL_0\n",
            "Entity: -, Label: LABEL_0\n",
            "Entity: 20, Label: LABEL_1\n",
            "Entity: ., Label: LABEL_0\n",
            "Entity: 0, Label: LABEL_0\n",
            "Entity: %, Label: LABEL_1\n",
            "Entity: ), Label: LABEL_0\n",
            "Entity: and, Label: LABEL_0\n",
            "Entity: dig, Label: LABEL_0\n",
            "Entity: ##estive, Label: LABEL_0\n",
            "Entity: system, Label: LABEL_0\n",
            "Entity: (, Label: LABEL_0\n",
            "Entity: 9, Label: LABEL_1\n",
            "Entity: ., Label: LABEL_0\n",
            "Entity: 0, Label: LABEL_0\n",
            "Entity: -, Label: LABEL_0\n",
            "Entity: 36, Label: LABEL_0\n",
            "Entity: ., Label: LABEL_0\n",
            "Entity: 0, Label: LABEL_0\n",
            "Entity: %, Label: LABEL_1\n",
            "Entity: ), Label: LABEL_0\n",
            "Entity: was, Label: LABEL_0\n",
            "Entity: hard, Label: LABEL_0\n",
            "Entity: be, Label: LABEL_0\n",
            "Entity: overlooked, Label: LABEL_0\n",
            "Entity: ., Label: LABEL_0\n",
            "Entity: ad, Label: LABEL_1\n",
            "Entity: ##c, Label: LABEL_0\n",
            "Entity: +, Label: LABEL_0\n",
            "Entity: i, Label: LABEL_1\n",
            "Entity: ##ci, Label: LABEL_0\n",
            "Entity: therapy, Label: LABEL_0\n",
            "Entity: may, Label: LABEL_0\n",
            "Entity: be, Label: LABEL_0\n",
            "Entity: recommended, Label: LABEL_1\n",
            "Entity: in, Label: LABEL_0\n",
            "Entity: cancer, Label: LABEL_0\n",
            "Entity: treatment, Label: LABEL_0\n",
            "Entity: ,, Label: LABEL_0\n",
            "Entity: especially, Label: LABEL_0\n",
            "Entity: in, Label: LABEL_0\n",
            "Entity: ch, Label: LABEL_0\n",
            "Entity: ##l, Label: LABEL_0\n",
            "Entity: and, Label: LABEL_0\n",
            "Entity: n, Label: LABEL_0\n",
            "Entity: ##hl, Label: LABEL_1\n",
            "Entity: ., Label: LABEL_0\n",
            "Entity: however, Label: LABEL_0\n",
            "Entity: ,, Label: LABEL_0\n",
            "Entity: strategies, Label: LABEL_0\n",
            "Entity: to, Label: LABEL_0\n",
            "Entity: manage, Label: LABEL_0\n",
            "Entity: toxic, Label: LABEL_0\n",
            "Entity: ##ities, Label: LABEL_0\n",
            "Entity: warrant, Label: LABEL_1\n",
            "Entity: ##ed, Label: LABEL_0\n",
            "Entity: further, Label: LABEL_1\n",
            "Entity: exploration, Label: LABEL_1\n",
            "Entity: ., Label: LABEL_0\n"
          ]
        }
      ],
      "source": [
        "from transformers import pipeline\n",
        "\n",
        "# Load BioBERT model for NER\n",
        "ner_model = pipeline(\"ner\", model=\"dmis-lab/biobert-base-cased-v1.1\", tokenizer=\"dmis-lab/biobert-base-cased-v1.1\")\n",
        "\n",
        "def extract_entities(text):\n",
        "    entities = ner_model(text)\n",
        "    return entities\n",
        "\n",
        "# Example text (replace with abstracts from CSV)\n",
        "abstract_text = \"Although antibody-drug conjugate (ADC) or immune checkpoint inhibitors (ICIs) alone fosters hope for the treatment of cancer, the effect of single drug treatment is limited and the safety profile of ADC and ICI therapy remains unclear. This meta-analysis aimed to examine the efficacy and safety of the combination of ADC and ICI therapy. This study type is a systematic review and meta-analysis. Literature retrieval was carried out through PubMed, Embase, Cochrane from inception to Jun. 5, 2024. Then, after data extraction, overall response rate (ORR) and adverse effects (AEs) were used to study its efficiency and safety. Publication bias was also calculated through Funnel plot, Begg's Test and Egger's test. Heterogeneity was investigated through subgroup and sensitivity analysis. The research protocol was registered with the PROSPERO (CRD42023375601). A total of 12 eligible clinical studies with 584 patients were included. The pooled ORR was 58% (95%CI 46%, 70%). Subgroup analysis showed an ORR of 77% (95%CI 63%, 91%) in classical Hodgkin lymphoma (cHL) and an ORR of 73% (95%CI 56%, 90%) in non-Hodgkin lymphoma (NHL). The most common AEs was peripheral neuropathy (38.0%). Meanwhile, AEs on skin (13.1-20.0%) and digestive system (9.0-36.0%) was hard be overlooked. ADC + ICI therapy may be recommended in cancer treatment, especially in cHL and NHL. However, strategies to manage toxicities warranted further exploration.\"\n",
        "\n",
        "# Extract entities\n",
        "entities = extract_entities(abstract_text)\n",
        "for entity in entities:\n",
        "    print(f\"Entity: {entity['word']}, Label: {entity['entity']}\")"
      ]
    },
    {
      "cell_type": "code",
      "source": [
        "pip install --upgrade openai\n"
      ],
      "metadata": {
        "colab": {
          "base_uri": "https://localhost:8080/"
        },
        "id": "uV7AEMQZeQhO",
        "outputId": "65ad971d-2427-4831-b1b1-f2cc8d496088"
      },
      "id": "uV7AEMQZeQhO",
      "execution_count": 23,
      "outputs": [
        {
          "output_type": "stream",
          "name": "stdout",
          "text": [
            "Collecting openai\n",
            "  Downloading openai-1.50.2-py3-none-any.whl.metadata (24 kB)\n",
            "Requirement already satisfied: anyio<5,>=3.5.0 in /usr/local/lib/python3.10/dist-packages (from openai) (3.7.1)\n",
            "Requirement already satisfied: distro<2,>=1.7.0 in /usr/lib/python3/dist-packages (from openai) (1.7.0)\n",
            "Collecting httpx<1,>=0.23.0 (from openai)\n",
            "  Downloading httpx-0.27.2-py3-none-any.whl.metadata (7.1 kB)\n",
            "Collecting jiter<1,>=0.4.0 (from openai)\n",
            "  Downloading jiter-0.5.0-cp310-cp310-manylinux_2_17_x86_64.manylinux2014_x86_64.whl.metadata (3.6 kB)\n",
            "Requirement already satisfied: pydantic<3,>=1.9.0 in /usr/local/lib/python3.10/dist-packages (from openai) (2.9.2)\n",
            "Requirement already satisfied: sniffio in /usr/local/lib/python3.10/dist-packages (from openai) (1.3.1)\n",
            "Requirement already satisfied: tqdm>4 in /usr/local/lib/python3.10/dist-packages (from openai) (4.66.5)\n",
            "Requirement already satisfied: typing-extensions<5,>=4.11 in /usr/local/lib/python3.10/dist-packages (from openai) (4.12.2)\n",
            "Requirement already satisfied: idna>=2.8 in /usr/local/lib/python3.10/dist-packages (from anyio<5,>=3.5.0->openai) (3.10)\n",
            "Requirement already satisfied: exceptiongroup in /usr/local/lib/python3.10/dist-packages (from anyio<5,>=3.5.0->openai) (1.2.2)\n",
            "Requirement already satisfied: certifi in /usr/local/lib/python3.10/dist-packages (from httpx<1,>=0.23.0->openai) (2024.8.30)\n",
            "Collecting httpcore==1.* (from httpx<1,>=0.23.0->openai)\n",
            "  Downloading httpcore-1.0.5-py3-none-any.whl.metadata (20 kB)\n",
            "Collecting h11<0.15,>=0.13 (from httpcore==1.*->httpx<1,>=0.23.0->openai)\n",
            "  Downloading h11-0.14.0-py3-none-any.whl.metadata (8.2 kB)\n",
            "Requirement already satisfied: annotated-types>=0.6.0 in /usr/local/lib/python3.10/dist-packages (from pydantic<3,>=1.9.0->openai) (0.7.0)\n",
            "Requirement already satisfied: pydantic-core==2.23.4 in /usr/local/lib/python3.10/dist-packages (from pydantic<3,>=1.9.0->openai) (2.23.4)\n",
            "Downloading openai-1.50.2-py3-none-any.whl (382 kB)\n",
            "\u001b[2K   \u001b[90m━━━━━━━━━━━━━━━━━━━━━━━━━━━━━━━━━━━━━━━━\u001b[0m \u001b[32m383.0/383.0 kB\u001b[0m \u001b[31m8.2 MB/s\u001b[0m eta \u001b[36m0:00:00\u001b[0m\n",
            "\u001b[?25hDownloading httpx-0.27.2-py3-none-any.whl (76 kB)\n",
            "\u001b[2K   \u001b[90m━━━━━━━━━━━━━━━━━━━━━━━━━━━━━━━━━━━━━━━━\u001b[0m \u001b[32m76.4/76.4 kB\u001b[0m \u001b[31m5.1 MB/s\u001b[0m eta \u001b[36m0:00:00\u001b[0m\n",
            "\u001b[?25hDownloading httpcore-1.0.5-py3-none-any.whl (77 kB)\n",
            "\u001b[2K   \u001b[90m━━━━━━━━━━━━━━━━━━━━━━━━━━━━━━━━━━━━━━━━\u001b[0m \u001b[32m77.9/77.9 kB\u001b[0m \u001b[31m5.4 MB/s\u001b[0m eta \u001b[36m0:00:00\u001b[0m\n",
            "\u001b[?25hDownloading jiter-0.5.0-cp310-cp310-manylinux_2_17_x86_64.manylinux2014_x86_64.whl (318 kB)\n",
            "\u001b[2K   \u001b[90m━━━━━━━━━━━━━━━━━━━━━━━━━━━━━━━━━━━━━━━━\u001b[0m \u001b[32m318.9/318.9 kB\u001b[0m \u001b[31m19.5 MB/s\u001b[0m eta \u001b[36m0:00:00\u001b[0m\n",
            "\u001b[?25hDownloading h11-0.14.0-py3-none-any.whl (58 kB)\n",
            "\u001b[2K   \u001b[90m━━━━━━━━━━━━━━━━━━━━━━━━━━━━━━━━━━━━━━━━\u001b[0m \u001b[32m58.3/58.3 kB\u001b[0m \u001b[31m4.1 MB/s\u001b[0m eta \u001b[36m0:00:00\u001b[0m\n",
            "\u001b[?25hInstalling collected packages: jiter, h11, httpcore, httpx, openai\n",
            "Successfully installed h11-0.14.0 httpcore-1.0.5 httpx-0.27.2 jiter-0.5.0 openai-1.50.2\n"
          ]
        }
      ]
    },
    {
      "cell_type": "code",
      "source": [
        "import openai"
      ],
      "metadata": {
        "id": "EbIbYP9hIQ0t"
      },
      "id": "EbIbYP9hIQ0t",
      "execution_count": 1,
      "outputs": []
    },
    {
      "cell_type": "code",
      "source": [
        "pip install openai==0.28"
      ],
      "metadata": {
        "colab": {
          "base_uri": "https://localhost:8080/",
          "height": 568
        },
        "id": "j0vewIVOEa9D",
        "outputId": "17537eaa-5c2b-4d13-93d8-7b61a1123409"
      },
      "id": "j0vewIVOEa9D",
      "execution_count": 28,
      "outputs": [
        {
          "output_type": "stream",
          "name": "stdout",
          "text": [
            "Collecting openai==0.28\n",
            "  Downloading openai-0.28.0-py3-none-any.whl.metadata (13 kB)\n",
            "Requirement already satisfied: requests>=2.20 in /usr/local/lib/python3.10/dist-packages (from openai==0.28) (2.32.3)\n",
            "Requirement already satisfied: tqdm in /usr/local/lib/python3.10/dist-packages (from openai==0.28) (4.66.5)\n",
            "Requirement already satisfied: aiohttp in /usr/local/lib/python3.10/dist-packages (from openai==0.28) (3.10.5)\n",
            "Requirement already satisfied: charset-normalizer<4,>=2 in /usr/local/lib/python3.10/dist-packages (from requests>=2.20->openai==0.28) (3.3.2)\n",
            "Requirement already satisfied: idna<4,>=2.5 in /usr/local/lib/python3.10/dist-packages (from requests>=2.20->openai==0.28) (3.10)\n",
            "Requirement already satisfied: urllib3<3,>=1.21.1 in /usr/local/lib/python3.10/dist-packages (from requests>=2.20->openai==0.28) (2.2.3)\n",
            "Requirement already satisfied: certifi>=2017.4.17 in /usr/local/lib/python3.10/dist-packages (from requests>=2.20->openai==0.28) (2024.8.30)\n",
            "Requirement already satisfied: aiohappyeyeballs>=2.3.0 in /usr/local/lib/python3.10/dist-packages (from aiohttp->openai==0.28) (2.4.0)\n",
            "Requirement already satisfied: aiosignal>=1.1.2 in /usr/local/lib/python3.10/dist-packages (from aiohttp->openai==0.28) (1.3.1)\n",
            "Requirement already satisfied: attrs>=17.3.0 in /usr/local/lib/python3.10/dist-packages (from aiohttp->openai==0.28) (24.2.0)\n",
            "Requirement already satisfied: frozenlist>=1.1.1 in /usr/local/lib/python3.10/dist-packages (from aiohttp->openai==0.28) (1.4.1)\n",
            "Requirement already satisfied: multidict<7.0,>=4.5 in /usr/local/lib/python3.10/dist-packages (from aiohttp->openai==0.28) (6.1.0)\n",
            "Requirement already satisfied: yarl<2.0,>=1.0 in /usr/local/lib/python3.10/dist-packages (from aiohttp->openai==0.28) (1.11.1)\n",
            "Requirement already satisfied: async-timeout<5.0,>=4.0 in /usr/local/lib/python3.10/dist-packages (from aiohttp->openai==0.28) (4.0.3)\n",
            "Requirement already satisfied: typing-extensions>=4.1.0 in /usr/local/lib/python3.10/dist-packages (from multidict<7.0,>=4.5->aiohttp->openai==0.28) (4.12.2)\n",
            "Downloading openai-0.28.0-py3-none-any.whl (76 kB)\n",
            "\u001b[2K   \u001b[90m━━━━━━━━━━━━━━━━━━━━━━━━━━━━━━━━━━━━━━━━\u001b[0m \u001b[32m76.5/76.5 kB\u001b[0m \u001b[31m2.5 MB/s\u001b[0m eta \u001b[36m0:00:00\u001b[0m\n",
            "\u001b[?25hInstalling collected packages: openai\n",
            "  Attempting uninstall: openai\n",
            "    Found existing installation: openai 1.50.2\n",
            "    Uninstalling openai-1.50.2:\n",
            "      Successfully uninstalled openai-1.50.2\n",
            "Successfully installed openai-0.28.0\n"
          ]
        },
        {
          "output_type": "display_data",
          "data": {
            "application/vnd.colab-display-data+json": {
              "pip_warning": {
                "packages": [
                  "openai"
                ]
              },
              "id": "c8b496cc0ad0451cbf66442bccb8d706"
            }
          },
          "metadata": {}
        }
      ]
    },
    {
      "cell_type": "code",
      "execution_count": 5,
      "id": "dfa02e65",
      "metadata": {
        "colab": {
          "base_uri": "https://localhost:8080/"
        },
        "id": "dfa02e65",
        "outputId": "886fce9b-b1d9-4362-81af-e541c0054344"
      },
      "outputs": [
        {
          "output_type": "stream",
          "name": "stdout",
          "text": [
            "{'entities': [{'id': 'QUARTET USA', 'type': 'Clinical Trial'}, {'id': 'QUARTET USA trial participants', 'type': 'Patients'}, {'id': 'LDQT', 'type': 'Therapy'}, {'id': 'health care professionals', 'type': 'Health Care Professionals'}], 'relationships': [{'source': 'QUARTET USA', 'target': 'QUARTET USA trial participants', 'relation': 'Enrollment'}, {'source': 'QUARTET USA', 'target': 'LDQT', 'relation': 'Exploration'}, {'source': 'QUARTET USA trial participants', 'target': 'LDQT', 'relation': 'Satisfaction'}, {'source': 'QUARTET USA trial participants', 'target': 'LDQT', 'relation': 'Perceptions'}, {'source': 'QUARTET USA trial participants', 'target': 'health care professionals', 'relation': 'Interviews'}, {'source': 'LDQT', 'target': 'Patients', 'relation': 'Acceptability'}, {'source': 'LDQT', 'target': 'Health Care Professionals', 'relation': 'Acceptability'}, {'source': 'LDQT', 'target': 'Blood Pressure Control', 'relation': 'Beneficial'}, {'source': 'LDQT', 'target': 'Medication Adherence', 'relation': 'Facilitation'}, {'source': 'LDQT', 'target': 'Titration', 'relation': 'Limitation'}, {'source': 'LDQT', 'target': 'Adverse Effects', 'relation': 'Perceived Limitation'}, {'source': 'LDQT', 'target': 'Costs', 'relation': 'Perceived Limitation'}]}\n"
          ]
        }
      ],
      "source": [
        "\n",
        "openai.api_key = \"\" #Insert openai key\n",
        "\n",
        "\n",
        "# Function to extract entities and relationships using ChatGPT\n",
        "def extract_entities_relationships(abstracts):\n",
        "    responses = []\n",
        "    for abstract in abstracts:\n",
        "        # Define the prompt for ChatGPT\n",
        "        prompt = f\"Extract the entities and relationships from the following abstract:\\n\\n{abstract}\\n\\nProvide the output as JSON in this format:\\n{{'entities': [{{'id': 'Entity1', 'type': 'Type1'}}, {{'id': 'Entity2', 'type': 'Type2'}}], 'relationships': [{{'source': 'Entity1', 'target': 'Entity2', 'relation': 'RELATION_TYPE'}}]}}\"\n",
        "\n",
        "        # Make an API call\n",
        "        response = openai.ChatCompletion.create(\n",
        "            model=\"gpt-3.5-turbo\",\n",
        "            messages=[{\"role\": \"user\", \"content\": prompt}],\n",
        "            temperature=0.5,\n",
        "            max_tokens=1500\n",
        "        )\n",
        "\n",
        "        # Append the response\n",
        "        responses.append(response['choices'][0]['message']['content'])\n",
        "\n",
        "    return responses\n",
        "\n",
        "# Example abstracts (replace with your actual data)\n",
        "abstracts = [\n",
        "    \"This convergent parallel-design mixed-methods process evaluation of the QUARTET USA (Quadruple Ultra-Low-Dose Treatment for Hypertension USA) clinical trial (NCT03640312) explores patient and health care professional perceptions about the use of low-dose quadruple therapy (LDQT) as a novel strategy for hypertension management. A survey of all 62 patients enrolled in the QUARTET USA trial was conducted. A subsample of 13 patients and 11 health care professionals, recruited via purposive sampling, took part in semistructured interviews. At enrollment, 68% of participants (mean [SD] age, 51.7 [11.5] years; 56% self-identified as Hispanic: Mexican ethnicity, 16% as Hispanic: other ethnicity, 16% as Black race, 8% as White race, and 1.6% as South Asian race) reported that their current health depended on blood pressure medications, and 48% were concerned about blood pressure medications. At trial completion, 80% were satisfied with LDQT, 96% were certain the benefits of taking LDQT outweighed the disadvantages, and 96% reported that LDQT was convenient to take. Both patients and health care professionals found LDQT acceptable because it reduced patients' perceived pill burden and facilitated medication adherence. Health care professionals stated that a perceived limitation of LDQT was the inability to titrate doses. Steps to facilitate LDQT implementation include introducing stepped-care combinations and treatment protocols, inclusion in clinical practice guidelines, and eliminating patient cost barriers. LDQT was an acceptable strategy for hypertension treatment among patients and health care professionals involved in the QUARTET USA clinical trial. Although LDQT was generally perceived as beneficial for maintaining patients' blood pressure control and facilitating adherence, some clinicians perceived limitations in titration inflexibility, adverse effects, and costs. URL: https://www.clinicaltrials.gov; Unique identifier: NCT03640312.\"\n",
        "]\n",
        "\n",
        "# Call the function to extract entities and relationships\n",
        "results = extract_entities_relationships(abstracts)\n",
        "\n",
        "# Print the extracted results\n",
        "for result in results:\n",
        "    print(json.loads(result))  # Parsing the JSON response\n"
      ]
    },
    {
      "cell_type": "code",
      "execution_count": 4,
      "id": "fc41b3d1",
      "metadata": {
        "colab": {
          "base_uri": "https://localhost:8080/"
        },
        "id": "fc41b3d1",
        "outputId": "89a42533-ac18-4b8b-f144-9dbf1bbb9eb4"
      },
      "outputs": [
        {
          "output_type": "stream",
          "name": "stdout",
          "text": [
            "Collecting boto3\n",
            "  Downloading boto3-1.35.29-py3-none-any.whl.metadata (6.6 kB)\n",
            "Collecting botocore<1.36.0,>=1.35.29 (from boto3)\n",
            "  Downloading botocore-1.35.29-py3-none-any.whl.metadata (5.6 kB)\n",
            "Collecting jmespath<2.0.0,>=0.7.1 (from boto3)\n",
            "  Downloading jmespath-1.0.1-py3-none-any.whl.metadata (7.6 kB)\n",
            "Collecting s3transfer<0.11.0,>=0.10.0 (from boto3)\n",
            "  Downloading s3transfer-0.10.2-py3-none-any.whl.metadata (1.7 kB)\n",
            "Requirement already satisfied: python-dateutil<3.0.0,>=2.1 in /usr/local/lib/python3.10/dist-packages (from botocore<1.36.0,>=1.35.29->boto3) (2.8.2)\n",
            "Requirement already satisfied: urllib3!=2.2.0,<3,>=1.25.4 in /usr/local/lib/python3.10/dist-packages (from botocore<1.36.0,>=1.35.29->boto3) (2.2.3)\n",
            "Requirement already satisfied: six>=1.5 in /usr/local/lib/python3.10/dist-packages (from python-dateutil<3.0.0,>=2.1->botocore<1.36.0,>=1.35.29->boto3) (1.16.0)\n",
            "Downloading boto3-1.35.29-py3-none-any.whl (139 kB)\n",
            "\u001b[2K   \u001b[90m━━━━━━━━━━━━━━━━━━━━━━━━━━━━━━━━━━━━━━━━\u001b[0m \u001b[32m139.1/139.1 kB\u001b[0m \u001b[31m3.6 MB/s\u001b[0m eta \u001b[36m0:00:00\u001b[0m\n",
            "\u001b[?25hDownloading botocore-1.35.29-py3-none-any.whl (12.6 MB)\n",
            "\u001b[2K   \u001b[90m━━━━━━━━━━━━━━━━━━━━━━━━━━━━━━━━━━━━━━━━\u001b[0m \u001b[32m12.6/12.6 MB\u001b[0m \u001b[31m86.2 MB/s\u001b[0m eta \u001b[36m0:00:00\u001b[0m\n",
            "\u001b[?25hDownloading jmespath-1.0.1-py3-none-any.whl (20 kB)\n",
            "Downloading s3transfer-0.10.2-py3-none-any.whl (82 kB)\n",
            "\u001b[2K   \u001b[90m━━━━━━━━━━━━━━━━━━━━━━━━━━━━━━━━━━━━━━━━\u001b[0m \u001b[32m82.7/82.7 kB\u001b[0m \u001b[31m6.0 MB/s\u001b[0m eta \u001b[36m0:00:00\u001b[0m\n",
            "\u001b[?25hInstalling collected packages: jmespath, botocore, s3transfer, boto3\n",
            "Successfully installed boto3-1.35.29 botocore-1.35.29 jmespath-1.0.1 s3transfer-0.10.2\n"
          ]
        }
      ],
      "source": [
        "pip install boto3"
      ]
    },
    {
      "cell_type": "code",
      "source": [
        "import os\n",
        "import boto3"
      ],
      "metadata": {
        "id": "LYXb1FjJLf0v"
      },
      "id": "LYXb1FjJLf0v",
      "execution_count": 9,
      "outputs": []
    },
    {
      "cell_type": "code",
      "execution_count": 21,
      "id": "214121bc",
      "metadata": {
        "colab": {
          "base_uri": "https://localhost:8080/"
        },
        "id": "214121bc",
        "outputId": "090b3429-1e34-4a50-afa1-723b480b7b37"
      },
      "outputs": [
        {
          "output_type": "stream",
          "name": "stdout",
          "text": [
            "Error occurred while uploading file: Unable to locate credentials\n"
          ]
        }
      ],
      "source": [
        "def upload_file_to_s3(file_name, bucket_name, object_name=None):\n",
        "    # If S3 object_name was not specified, use file_name\n",
        "    if object_name is None:\n",
        "        object_name = os.path.basename(file_name)\n",
        "\n",
        "    # Upload the file to S3\n",
        "    s3_client = boto3.client('s3')\n",
        "    try:\n",
        "        s3_client.upload_file(file_name, bucket_name, object_name)\n",
        "        print(f\"File {file_name} uploaded to S3 bucket {bucket_name} as {object_name}\")\n",
        "    except Exception as e:\n",
        "        print(f\"Error occurred while uploading file: {e}\")\n",
        "\n",
        "# Example usage\n",
        "file_name = '/content/pubmed_abstracts_with_mesh.csv'  # Local path to your generated CSV file\n",
        "bucket_name = 'gmu-cec-sagemaker-daen690-or'  # Name of your S3 bucket\n",
        "\n",
        "upload_file_to_s3(file_name, bucket_name)"
      ]
    },
    {
      "cell_type": "code",
      "source": [
        "file_name = \"/content/pubmed_abstracts_with_mesh.csv\"\n",
        "print(os.path.exists(file_name))"
      ],
      "metadata": {
        "colab": {
          "base_uri": "https://localhost:8080/"
        },
        "id": "_vqgi7U2Jjfn",
        "outputId": "dd4a58c9-bb0f-441e-a633-ed85ca730301"
      },
      "id": "_vqgi7U2Jjfn",
      "execution_count": 18,
      "outputs": [
        {
          "output_type": "stream",
          "name": "stdout",
          "text": [
            "True\n"
          ]
        }
      ]
    },
    {
      "cell_type": "code",
      "source": [],
      "metadata": {
        "id": "yCHYUeIbJjiA"
      },
      "id": "yCHYUeIbJjiA",
      "execution_count": null,
      "outputs": []
    },
    {
      "cell_type": "code",
      "source": [],
      "metadata": {
        "id": "MNuSCZpMJjkY"
      },
      "id": "MNuSCZpMJjkY",
      "execution_count": null,
      "outputs": []
    },
    {
      "cell_type": "code",
      "source": [],
      "metadata": {
        "id": "m7eOot3TJjm3"
      },
      "id": "m7eOot3TJjm3",
      "execution_count": null,
      "outputs": []
    },
    {
      "cell_type": "code",
      "source": [],
      "metadata": {
        "id": "aOhv_Yk0JjpZ"
      },
      "id": "aOhv_Yk0JjpZ",
      "execution_count": null,
      "outputs": []
    },
    {
      "cell_type": "code",
      "source": [],
      "metadata": {
        "id": "tsZUYWv-Jjr3"
      },
      "id": "tsZUYWv-Jjr3",
      "execution_count": null,
      "outputs": []
    }
  ],
  "metadata": {
    "kernelspec": {
      "display_name": "Python 3 (ipykernel)",
      "language": "python",
      "name": "python3"
    },
    "language_info": {
      "codemirror_mode": {
        "name": "ipython",
        "version": 3
      },
      "file_extension": ".py",
      "mimetype": "text/x-python",
      "name": "python",
      "nbconvert_exporter": "python",
      "pygments_lexer": "ipython3",
      "version": "3.9.13"
    },
    "colab": {
      "provenance": []
    }
  },
  "nbformat": 4,
  "nbformat_minor": 5
}