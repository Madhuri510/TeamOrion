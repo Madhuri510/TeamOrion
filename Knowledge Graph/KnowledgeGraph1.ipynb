{
 "cells": [
  {
   "cell_type": "markdown",
   "id": "9e5f7c47",
   "metadata": {},
   "source": [
    "# Entity and Relationship Extraction with OpenAI and Neo4j\n",
    "\n",
    "This code dynamically extracts entities and relationships from text (abstracts), normalizes and deduplicates them, and then stores them in a Neo4j graph database. The code uses OpenAI for extraction, fuzzy matching for normalization, and Neo4j for graph storage.\n",
    "\n"
   ]
  },
  {
   "cell_type": "markdown",
   "id": "ffd4c28a",
   "metadata": {},
   "source": [
    "## Installations"
   ]
  },
  {
   "cell_type": "code",
   "execution_count": 1,
   "id": "6ec062cf",
   "metadata": {},
   "outputs": [
    {
     "name": "stdout",
     "output_type": "stream",
     "text": [
      "Requirement already satisfied: openai==0.28 in c:\\users\\madhu\\anaconda3\\lib\\site-packages (0.28.0)\n",
      "Requirement already satisfied: tqdm in c:\\users\\madhu\\anaconda3\\lib\\site-packages (from openai==0.28) (4.64.1)\n",
      "Requirement already satisfied: requests>=2.20 in c:\\users\\madhu\\anaconda3\\lib\\site-packages (from openai==0.28) (2.28.1)\n",
      "Requirement already satisfied: aiohttp in c:\\users\\madhu\\anaconda3\\lib\\site-packages (from openai==0.28) (3.10.5)\n",
      "Requirement already satisfied: idna<4,>=2.5 in c:\\users\\madhu\\anaconda3\\lib\\site-packages (from requests>=2.20->openai==0.28) (3.3)\n",
      "Requirement already satisfied: certifi>=2017.4.17 in c:\\users\\madhu\\anaconda3\\lib\\site-packages (from requests>=2.20->openai==0.28) (2022.9.14)\n",
      "Requirement already satisfied: charset-normalizer<3,>=2 in c:\\users\\madhu\\anaconda3\\lib\\site-packages (from requests>=2.20->openai==0.28) (2.0.4)\n",
      "Requirement already satisfied: urllib3<1.27,>=1.21.1 in c:\\users\\madhu\\anaconda3\\lib\\site-packages (from requests>=2.20->openai==0.28) (1.26.11)\n",
      "Requirement already satisfied: aiosignal>=1.1.2 in c:\\users\\madhu\\anaconda3\\lib\\site-packages (from aiohttp->openai==0.28) (1.3.1)\n",
      "Requirement already satisfied: aiohappyeyeballs>=2.3.0 in c:\\users\\madhu\\anaconda3\\lib\\site-packages (from aiohttp->openai==0.28) (2.4.0)\n",
      "Requirement already satisfied: async-timeout<5.0,>=4.0 in c:\\users\\madhu\\anaconda3\\lib\\site-packages (from aiohttp->openai==0.28) (4.0.3)\n",
      "Requirement already satisfied: multidict<7.0,>=4.5 in c:\\users\\madhu\\anaconda3\\lib\\site-packages (from aiohttp->openai==0.28) (6.1.0)\n",
      "Requirement already satisfied: frozenlist>=1.1.1 in c:\\users\\madhu\\anaconda3\\lib\\site-packages (from aiohttp->openai==0.28) (1.4.1)\n",
      "Requirement already satisfied: attrs>=17.3.0 in c:\\users\\madhu\\anaconda3\\lib\\site-packages (from aiohttp->openai==0.28) (21.4.0)\n",
      "Requirement already satisfied: yarl<2.0,>=1.0 in c:\\users\\madhu\\anaconda3\\lib\\site-packages (from aiohttp->openai==0.28) (1.11.1)\n",
      "Requirement already satisfied: colorama in c:\\users\\madhu\\anaconda3\\lib\\site-packages (from tqdm->openai==0.28) (0.4.6)\n",
      "Requirement already satisfied: typing-extensions>=4.1.0 in c:\\users\\madhu\\anaconda3\\lib\\site-packages (from multidict<7.0,>=4.5->aiohttp->openai==0.28) (4.12.2)\n",
      "Note: you may need to restart the kernel to use updated packages.\n"
     ]
    }
   ],
   "source": [
    "pip install openai==0.28"
   ]
  },
  {
   "cell_type": "code",
   "execution_count": 2,
   "id": "28600a01",
   "metadata": {},
   "outputs": [
    {
     "name": "stdout",
     "output_type": "stream",
     "text": [
      "Requirement already satisfied: fuzzywuzzy in c:\\users\\madhu\\anaconda3\\lib\\site-packages (0.18.0)Note: you may need to restart the kernel to use updated packages.\n",
      "\n"
     ]
    }
   ],
   "source": [
    "pip install fuzzywuzzy\n"
   ]
  },
  {
   "cell_type": "markdown",
   "id": "c57b9e58",
   "metadata": {},
   "source": [
    "## Imports"
   ]
  },
  {
   "cell_type": "code",
   "execution_count": 3,
   "id": "70081ee7",
   "metadata": {},
   "outputs": [
    {
     "name": "stderr",
     "output_type": "stream",
     "text": [
      "C:\\Users\\madhu\\anaconda3\\lib\\site-packages\\fuzzywuzzy\\fuzz.py:11: UserWarning: Using slow pure-python SequenceMatcher. Install python-Levenshtein to remove this warning\n",
      "  warnings.warn('Using slow pure-python SequenceMatcher. Install python-Levenshtein to remove this warning')\n"
     ]
    }
   ],
   "source": [
    "import openai\n",
    "import json\n",
    "from neo4j import GraphDatabase\n",
    "import pandas as pd\n",
    "from collections import defaultdict\n",
    "from fuzzywuzzy import process"
   ]
  },
  {
   "cell_type": "markdown",
   "id": "850d0902",
   "metadata": {},
   "source": [
    "## Extracting Entities and Relationships\n",
    "\n",
    "Dynamic Sets: These sets (known_entities and known_relationships) are initialized to store dynamically learned entities and relationships from each abstract.\n",
    "\n",
    "Multiple Runs with Temperature Variation: This function calls OpenAI multiple times to extract entities and relationships from the provided abstract. The temperature setting ensures varied responses, making the extraction more robust.\n",
    "\n",
    "Combining and Normalizing: After extracting entities and relationships, they are combined and normalized (to handle similar entities and deduplicate them)."
   ]
  },
  {
   "cell_type": "code",
   "execution_count": 4,
   "id": "9ffc2403",
   "metadata": {},
   "outputs": [],
   "source": [
    "# Set your OpenAI API key\n",
    "openai.api_key = \"\"  # Add your key here\n",
    "# Initialize dynamic sets for known entities and relationships\n",
    "known_entities = set()\n",
    "known_relationships = set()\n",
    "# Function to extract entities and relationships from an abstract using OpenAI with temperature variation\n",
    "def extract_entities_relationships_multiple_runs(abstract, num_runs=3):\n",
    "    combined_entities = []\n",
    "    combined_relationships = []\n",
    "\n",
    "    for i in range(num_runs):\n",
    "        temperature = 0.3 + (0.4 * (i / (num_runs - 1)))\n",
    "        \n",
    "        prompt = f\"\"\"\n",
    "        Extract the entities and relationships from the following abstract:\n",
    "        {abstract}\n",
    "\n",
    "        Provide the output as a JSON in this format:\n",
    "        {{\n",
    "          \"entities\": [\n",
    "            {{\"id\": \"Entity1\", \"type\": \"Type1\"}},\n",
    "            {{\"id\": \"Entity2\", \"type\": \"Type2\"}}\n",
    "          ],\n",
    "          \"relationships\": [\n",
    "            {{\"source\": \"Entity1\", \"target\": \"Entity2\", \"relation\": \"RELATION_TYPE\"}}\n",
    "          ]\n",
    "        }}\n",
    "        Ensure the output uses double quotes for property names and values.\n",
    "        \"\"\"\n",
    "        \n",
    "        # Make API call to OpenAI\n",
    "        response = openai.ChatCompletion.create(\n",
    "            model=\"gpt-3.5-turbo\",\n",
    "            messages=[{\"role\": \"user\", \"content\": prompt}],\n",
    "            temperature=temperature,\n",
    "            max_tokens=1500\n",
    "        )\n",
    "        \n",
    "        # Parse the response\n",
    "        result = response['choices'][0]['message']['content']\n",
    "        try:\n",
    "            parsed_result = json.loads(result)\n",
    "            entities = parsed_result.get('entities', [])\n",
    "            relationships = parsed_result.get('relationships', [])\n",
    "            \n",
    "            combined_entities.extend(entities)\n",
    "            combined_relationships.extend(relationships)\n",
    "        \n",
    "        except json.JSONDecodeError:\n",
    "            print(f\"Error parsing JSON for temperature {temperature}: {result}\")\n",
    "            continue\n",
    "\n",
    "    # Deduplicate and normalize entities and relationships\n",
    "    combined_entities = normalize_and_deduplicate_entities(combined_entities)\n",
    "    combined_relationships = normalize_and_deduplicate_relationships(combined_relationships)\n",
    "    \n",
    "    return combined_entities, combined_relationships\n"
   ]
  },
  {
   "cell_type": "markdown",
   "id": "68312ed5",
   "metadata": {},
   "source": [
    "## Normalization and Deduplication \n",
    "\n",
    "Entities: The entities are normalized using fuzzy matching to ensure that similar entities (like \"cancer\" and \"Cancer\") are treated as the same entity. Any duplicate entities are removed.\n",
    "\n",
    "Relationships: Similar to entities, relationships are normalized (e.g., \"associated with\" and \"related to\" are treated the same) and duplicates are removed."
   ]
  },
  {
   "cell_type": "code",
   "execution_count": 5,
   "id": "ff39ba7f",
   "metadata": {},
   "outputs": [],
   "source": [
    "# Function to deduplicate and normalize entities\n",
    "def normalize_and_deduplicate_entities(entities):\n",
    "    global known_entities  # Use the dynamic known_entities set\n",
    "    seen = set()\n",
    "    unique_entities = []\n",
    "    \n",
    "    for entity in entities:\n",
    "        normalized_entity = normalize_entity_name(entity['id'])\n",
    "        if normalized_entity not in seen:\n",
    "            seen.add(normalized_entity)\n",
    "            entity['id'] = normalized_entity  # Update the entity ID to the normalized one\n",
    "            unique_entities.append(entity)\n",
    "            # Update the known_entities set dynamically\n",
    "            known_entities.add(normalized_entity)\n",
    "    \n",
    "    return unique_entities\n",
    "\n",
    "# Function to normalize and deduplicate relationships\n",
    "def normalize_and_deduplicate_relationships(relationships):\n",
    "    global known_relationships  # Use the dynamic known_relationships set\n",
    "    seen = set()\n",
    "    unique_relationships = []\n",
    "    \n",
    "    for relationship in relationships:\n",
    "        source = normalize_entity_name(relationship['source'])\n",
    "        target = normalize_entity_name(relationship['target'])\n",
    "        relation = normalize_relationship_type(relationship['relation'])\n",
    "        \n",
    "        rel_tuple = (source, target, relation)\n",
    "        if rel_tuple not in seen:\n",
    "            seen.add(rel_tuple)\n",
    "            unique_relationships.append({\n",
    "                \"source\": source,\n",
    "                \"target\": target,\n",
    "                \"relation\": relation\n",
    "            })\n",
    "            # Update the known_relationships set dynamically\n",
    "            known_relationships.add(relation)\n",
    "    \n",
    "    return unique_relationships\n"
   ]
  },
  {
   "cell_type": "markdown",
   "id": "610afd95",
   "metadata": {},
   "source": [
    "## Fuzzy Matching for Normalization\n",
    "\n",
    "Entity and Relationship Normalization: These functions use fuzzy matching to compare extracted entities and relationships to known ones. If the similarity is above a threshold (80), the entity or relationship is normalized to a known value."
   ]
  },
  {
   "cell_type": "code",
   "execution_count": 6,
   "id": "e659f451",
   "metadata": {},
   "outputs": [],
   "source": [
    "# Function to normalize entity names using fuzzy matching\n",
    "def normalize_entity_name(entity_name):\n",
    "    global known_entities  # Use the dynamic set of known entities\n",
    "    if len(known_entities) == 0:\n",
    "        # If the known_entities set is empty, return the entity name as is\n",
    "        return entity_name\n",
    "\n",
    "    # Fuzzy matching against known entities\n",
    "    best_match = process.extractOne(entity_name.lower(), known_entities, scorer=process.fuzz.ratio)\n",
    "    if best_match and best_match[1] > 80:  # Threshold for similarity\n",
    "        return best_match[0]\n",
    "    \n",
    "    return entity_name\n",
    "\n",
    "# Function to normalize relationship types using fuzzy matching\n",
    "def normalize_relationship_type(relation):\n",
    "    global known_relationships  # Use the dynamic set of known relationships\n",
    "    if len(known_relationships) == 0:\n",
    "        # If the known_relationships set is empty, return the relation as is\n",
    "        return relation\n",
    "\n",
    "    # Fuzzy matching against known relationships\n",
    "    best_match = process.extractOne(relation.lower(), known_relationships, scorer=process.fuzz.ratio)\n",
    "    if best_match and best_match[1] > 80:  # Threshold for similarity\n",
    "        return best_match[0]\n",
    "    \n",
    "    return relation"
   ]
  },
  {
   "cell_type": "markdown",
   "id": "7baf22bd",
   "metadata": {},
   "source": [
    "## Neo4j Connection and Data Insertion\n",
    "\n",
    "Inserting Data into Neo4j: This function inserts the normalized and deduplicated entities and relationships into the Neo4j graph database using the MERGE statement, ensuring no duplicates are created in the database."
   ]
  },
  {
   "cell_type": "code",
   "execution_count": 7,
   "id": "27da55b0",
   "metadata": {},
   "outputs": [],
   "source": [
    "# Function to insert entities and relationships into Neo4j\n",
    "def insert_into_neo4j(entities, relationships):\n",
    "    with driver.session() as session:\n",
    "        # Insert entities\n",
    "        for entity in entities:\n",
    "            entity_id = escape_special_chars(entity['id'])\n",
    "            entity_type = escape_special_chars(entity['type'])\n",
    "            query = f\"\"\"\n",
    "            MERGE (e:Entity {{id: '{entity_id}', type: '{entity_type}'}})\n",
    "            \"\"\"\n",
    "            session.run(query)\n",
    "        \n",
    "        # Insert relationships\n",
    "        for relationship in relationships:\n",
    "            source = escape_special_chars(relationship['source'])\n",
    "            target = escape_special_chars(relationship['target'])\n",
    "            relation = escape_special_chars(relationship['relation'].upper().replace(\" \", \"_\"))\n",
    "            query = f\"\"\"\n",
    "            MATCH (source:Entity {{id: '{source}'}}),\n",
    "                  (target:Entity {{id: '{target}'}})\n",
    "            MERGE (source)-[:{relation}]->(target)\n",
    "            \"\"\"\n",
    "            session.run(query)\n"
   ]
  },
  {
   "cell_type": "markdown",
   "id": "05d1e77b",
   "metadata": {},
   "source": [
    "## Running the Extraction and Insertion\n",
    "\n",
    "The example demonstrates how to extract entities and relationships from an abstract and insert them into Neo4j."
   ]
  },
  {
   "cell_type": "code",
   "execution_count": 8,
   "id": "5363d998",
   "metadata": {},
   "outputs": [
    {
     "name": "stdout",
     "output_type": "stream",
     "text": [
      "Entities: [{'id': 'Cardiovascular toxicity', 'type': 'Medical condition'}, {'id': 'Angiogenesis inhibitors', 'type': 'Medication'}, {'id': 'Patients with cancer', 'type': 'Patient group'}, {'id': 'Taiwan', 'type': 'Location'}, {'id': 'Observational study', 'type': 'Study type'}, {'id': 'Major adverse cardiovascular events (MACEs)', 'type': 'Medical condition'}, {'id': 'Taiwan Cancer Registry', 'type': 'Database'}, {'id': 'Taiwan National Insurance Claim Database', 'type': 'Database'}, {'id': 'Case', 'type': 'Study group'}, {'id': 'Control', 'type': 'Study group'}, {'id': 'Age', 'type': 'Demographic factor'}, {'id': 'Sex', 'type': 'Demographic factor'}, {'id': 'Cancer type', 'type': 'Medical condition'}, {'id': 'Cancer diagnosis date', 'type': 'Date'}, {'id': 'Logistic regression', 'type': 'Statistical analysis method'}, {'id': 'Propensity score adjustment', 'type': 'Statistical analysis method'}, {'id': 'Sensitivity analyses', 'type': 'Statistical analysis method'}, {'id': 'Incidence', 'type': 'Measurement'}, {'id': 'Person-years', 'type': 'Measurement'}, {'id': 'Heart failure hospitalization', 'type': 'Medical condition'}, {'id': 'Myocardial infarction', 'type': 'Medical condition'}, {'id': 'Cerebrovascular accident', 'type': 'Medical condition'}, {'id': 'Venous thromboembolism', 'type': 'Medical condition'}, {'id': 'New-onset atrial fibrillation', 'type': 'Medical condition'}, {'id': 'Malignancies', 'type': 'Medical condition'}, {'id': 'Matching', 'type': 'Statistical method'}, {'id': 'Cohort', 'type': 'Study group'}, {'id': 'Prevalent cases', 'type': 'Medical condition'}, {'id': 'Men', 'type': 'Gender'}, {'id': 'Heart failure', 'type': 'Medical condition'}, {'id': 'Hospitalization', 'type': 'Medical procedure'}, {'id': 'Atrial fibrillation', 'type': 'Medical condition'}]\n",
      "Relationships: [{'source': 'Cardiovascular toxicity', 'target': 'Angiogenesis inhibitors', 'relation': 'Treatment'}, {'source': 'Angiogenesis inhibitors', 'target': 'Patients with cancer', 'relation': 'Treatment'}, {'source': 'Observational study', 'target': 'Cardiovascular toxicity', 'relation': 'Focuses on'}, {'source': 'Observational study', 'target': 'Taiwan', 'relation': 'Conducted in'}, {'source': 'Taiwan Cancer Registry', 'target': 'Observational study', 'relation': 'Data source'}, {'source': 'Taiwan National Insurance Claim Database', 'target': 'Observational study', 'relation': 'Data source'}, {'source': 'Case', 'target': 'Control', 'relation': 'Matched with'}, {'source': 'Case', 'target': 'Age', 'relation': 'Matched by'}, {'source': 'Case', 'target': 'Sex', 'relation': 'Matched by'}, {'source': 'Case', 'target': 'Cancer type', 'relation': 'Matched by'}, {'source': 'Case', 'target': 'Cancer diagnosis date', 'relation': 'Matched by'}, {'source': 'Logistic regression', 'target': 'Major adverse cardiovascular events (MACEs)', 'relation': 'Used to evaluate'}, {'source': 'Propensity score adjustment', 'target': 'Major adverse cardiovascular events (MACEs)', 'relation': 'Used for'}, {'source': 'Sensitivity analyses', 'target': 'Major adverse cardiovascular events (MACEs)', 'relation': 'Used to evaluate'}, {'source': 'Incidence', 'target': 'Major adverse cardiovascular events (MACEs)', 'relation': 'Measured for'}, {'source': 'Incidence', 'target': 'Person-years', 'relation': 'Calculated per'}, {'source': 'Major adverse cardiovascular events (MACEs)', 'target': 'Angiogenesis inhibitors', 'relation': 'Associated with'}, {'source': 'Heart failure hospitalization', 'target': 'Angiogenesis inhibitors', 'relation': 'Associated with'}, {'source': 'Myocardial infarction', 'target': 'Angiogenesis inhibitors', 'relation': 'Associated with'}, {'source': 'Cerebrovascular accident', 'target': 'Angiogenesis inhibitors', 'relation': 'Associated with'}, {'source': 'Venous thromboembolism', 'target': 'Angiogenesis inhibitors', 'relation': 'Associated with'}, {'source': 'New-onset atrial fibrillation', 'target': 'Angiogenesis inhibitors', 'relation': 'Associated with'}, {'source': 'Malignancies', 'target': 'Angiogenesis inhibitors', 'relation': 'Associated with'}, {'source': 'Angiogenesis inhibitors', 'target': 'Patients with cancer', 'relation': 'Administered to'}, {'source': 'Observational study', 'target': 'Cardiovascular toxicity', 'relation': 'Focus of'}, {'source': 'Taiwan Cancer Registry', 'target': 'Taiwan', 'relation': 'Located in'}, {'source': 'Taiwan National Insurance Claim Database', 'target': 'Taiwan', 'relation': 'Linked with'}, {'source': 'Age', 'target': 'Case', 'relation': 'Matched by'}, {'source': 'Sex', 'target': 'Case', 'relation': 'Matched by'}, {'source': 'Cancer type', 'target': 'Case', 'relation': 'Matched by'}, {'source': 'Cancer diagnosis date', 'target': 'Case', 'relation': 'Matched by'}, {'source': 'Heart failure hospitalization', 'target': 'Angiogenesis inhibitors', 'relation': 'Increased risks of'}, {'source': 'Myocardial infarction', 'target': 'Angiogenesis inhibitors', 'relation': 'Increased risks of'}, {'source': 'Cerebrovascular accident', 'target': 'Angiogenesis inhibitors', 'relation': 'Increased risks of'}, {'source': 'Venous thromboembolism', 'target': 'Angiogenesis inhibitors', 'relation': 'Increased risks of'}, {'source': 'New-onset atrial fibrillation', 'target': 'Angiogenesis inhibitors', 'relation': 'No association with'}, {'source': 'Propensity score adjustment', 'target': 'Angiogenesis inhibitors', 'relation': 'Used to evaluate'}, {'source': 'Matching', 'target': 'Cancer stage', 'relation': 'By'}, {'source': 'Sensitivity analyses', 'target': 'Exposure within 1 year', 'relation': 'Used to evaluate'}, {'source': 'Cohort', 'target': 'Exclusion of prevalent cases', 'relation': 'After'}, {'source': 'Incidence', 'target': 'MACEs', 'relation': 'Among'}, {'source': 'Men', 'target': 'Patients', 'relation': 'Gender of'}, {'source': 'Cardiovascular toxicity', 'target': 'Angiogenesis inhibitors', 'relation': 'Associated with'}, {'source': 'Angiogenesis inhibitors', 'target': 'Major adverse cardiovascular events (MACEs)', 'relation': 'Associated with'}, {'source': 'Taiwan', 'target': 'Observational study', 'relation': 'Location of'}, {'source': 'Observational study', 'target': 'Major adverse cardiovascular events (MACEs)', 'relation': 'Explored the risk of'}, {'source': 'Taiwan Cancer Registry', 'target': 'Taiwan National Insurance Claim Database', 'relation': 'Linked with'}, {'source': 'Age', 'target': 'Sex', 'relation': 'Matched by'}, {'source': 'Cancer type', 'target': 'Cancer diagnosis date', 'relation': 'Matched by'}, {'source': 'Logistic regression', 'target': 'Major adverse cardiovascular events (MACEs)', 'relation': 'Used to evaluate the risks of'}, {'source': 'Sensitivity analyses', 'target': 'Major adverse cardiovascular events (MACEs)', 'relation': 'Used to evaluate the risks of'}, {'source': 'Prevalent cases', 'target': 'Exclusion of', 'relation': 'Excluded'}, {'source': 'Person-years', 'target': 'Major adverse cardiovascular events (MACEs)', 'relation': 'Incidence of'}, {'source': 'Heart failure', 'target': 'Angiogenesis inhibitors', 'relation': 'Increased risks of'}, {'source': 'Hospitalization', 'target': 'Angiogenesis inhibitors', 'relation': 'Increased risks of'}, {'source': 'Atrial fibrillation', 'target': 'Angiogenesis inhibitors', 'relation': 'No association with'}]\n"
     ]
    },
    {
     "name": "stderr",
     "output_type": "stream",
     "text": [
      "Received notification from DBMS server: {severity: WARNING} {code: Neo.ClientNotification.Statement.CartesianProductWarning} {category: } {title: This query builds a cartesian product between disconnected patterns.} {description: If a part of a query contains multiple disconnected patterns, this will build a cartesian product between all those parts. This may produce a large amount of data and slow down query processing. While occasionally intended, it may often be possible to reformulate the query that avoids the use of this cross product, perhaps by adding a relationship between the different parts or by using OPTIONAL MATCH (identifier is: (target))} {position: line: 2, column: 1, offset: 13} for query: \"\\n            MATCH (source:Entity {id: 'Cardiovascular toxicity'}),\\n                  (target:Entity {id: 'Angiogenesis inhibitors'})\\n            MERGE (source)-[:TREATMENT]->(target)\\n            \"\n",
      "Received notification from DBMS server: {severity: WARNING} {code: Neo.ClientNotification.Statement.CartesianProductWarning} {category: } {title: This query builds a cartesian product between disconnected patterns.} {description: If a part of a query contains multiple disconnected patterns, this will build a cartesian product between all those parts. This may produce a large amount of data and slow down query processing. While occasionally intended, it may often be possible to reformulate the query that avoids the use of this cross product, perhaps by adding a relationship between the different parts or by using OPTIONAL MATCH (identifier is: (target))} {position: line: 2, column: 1, offset: 13} for query: \"\\n            MATCH (source:Entity {id: 'Angiogenesis inhibitors'}),\\n                  (target:Entity {id: 'Patients with cancer'})\\n            MERGE (source)-[:TREATMENT]->(target)\\n            \"\n",
      "Received notification from DBMS server: {severity: WARNING} {code: Neo.ClientNotification.Statement.CartesianProductWarning} {category: } {title: This query builds a cartesian product between disconnected patterns.} {description: If a part of a query contains multiple disconnected patterns, this will build a cartesian product between all those parts. This may produce a large amount of data and slow down query processing. While occasionally intended, it may often be possible to reformulate the query that avoids the use of this cross product, perhaps by adding a relationship between the different parts or by using OPTIONAL MATCH (identifier is: (target))} {position: line: 2, column: 1, offset: 13} for query: \"\\n            MATCH (source:Entity {id: 'Observational study'}),\\n                  (target:Entity {id: 'Cardiovascular toxicity'})\\n            MERGE (source)-[:FOCUSES_ON]->(target)\\n            \"\n",
      "Received notification from DBMS server: {severity: WARNING} {code: Neo.ClientNotification.Statement.CartesianProductWarning} {category: } {title: This query builds a cartesian product between disconnected patterns.} {description: If a part of a query contains multiple disconnected patterns, this will build a cartesian product between all those parts. This may produce a large amount of data and slow down query processing. While occasionally intended, it may often be possible to reformulate the query that avoids the use of this cross product, perhaps by adding a relationship between the different parts or by using OPTIONAL MATCH (identifier is: (target))} {position: line: 2, column: 1, offset: 13} for query: \"\\n            MATCH (source:Entity {id: 'Observational study'}),\\n                  (target:Entity {id: 'Taiwan'})\\n            MERGE (source)-[:CONDUCTED_IN]->(target)\\n            \"\n",
      "Received notification from DBMS server: {severity: WARNING} {code: Neo.ClientNotification.Statement.CartesianProductWarning} {category: } {title: This query builds a cartesian product between disconnected patterns.} {description: If a part of a query contains multiple disconnected patterns, this will build a cartesian product between all those parts. This may produce a large amount of data and slow down query processing. While occasionally intended, it may often be possible to reformulate the query that avoids the use of this cross product, perhaps by adding a relationship between the different parts or by using OPTIONAL MATCH (identifier is: (target))} {position: line: 2, column: 1, offset: 13} for query: \"\\n            MATCH (source:Entity {id: 'Taiwan Cancer Registry'}),\\n                  (target:Entity {id: 'Observational study'})\\n            MERGE (source)-[:DATA_SOURCE]->(target)\\n            \"\n",
      "Received notification from DBMS server: {severity: WARNING} {code: Neo.ClientNotification.Statement.CartesianProductWarning} {category: } {title: This query builds a cartesian product between disconnected patterns.} {description: If a part of a query contains multiple disconnected patterns, this will build a cartesian product between all those parts. This may produce a large amount of data and slow down query processing. While occasionally intended, it may often be possible to reformulate the query that avoids the use of this cross product, perhaps by adding a relationship between the different parts or by using OPTIONAL MATCH (identifier is: (target))} {position: line: 2, column: 1, offset: 13} for query: \"\\n            MATCH (source:Entity {id: 'Taiwan National Insurance Claim Database'}),\\n                  (target:Entity {id: 'Observational study'})\\n            MERGE (source)-[:DATA_SOURCE]->(target)\\n            \"\n",
      "Received notification from DBMS server: {severity: WARNING} {code: Neo.ClientNotification.Statement.CartesianProductWarning} {category: } {title: This query builds a cartesian product between disconnected patterns.} {description: If a part of a query contains multiple disconnected patterns, this will build a cartesian product between all those parts. This may produce a large amount of data and slow down query processing. While occasionally intended, it may often be possible to reformulate the query that avoids the use of this cross product, perhaps by adding a relationship between the different parts or by using OPTIONAL MATCH (identifier is: (target))} {position: line: 2, column: 1, offset: 13} for query: \"\\n            MATCH (source:Entity {id: 'Case'}),\\n                  (target:Entity {id: 'Control'})\\n            MERGE (source)-[:MATCHED_WITH]->(target)\\n            \"\n",
      "Received notification from DBMS server: {severity: WARNING} {code: Neo.ClientNotification.Statement.CartesianProductWarning} {category: } {title: This query builds a cartesian product between disconnected patterns.} {description: If a part of a query contains multiple disconnected patterns, this will build a cartesian product between all those parts. This may produce a large amount of data and slow down query processing. While occasionally intended, it may often be possible to reformulate the query that avoids the use of this cross product, perhaps by adding a relationship between the different parts or by using OPTIONAL MATCH (identifier is: (target))} {position: line: 2, column: 1, offset: 13} for query: \"\\n            MATCH (source:Entity {id: 'Case'}),\\n                  (target:Entity {id: 'Age'})\\n            MERGE (source)-[:MATCHED_BY]->(target)\\n            \"\n",
      "Received notification from DBMS server: {severity: WARNING} {code: Neo.ClientNotification.Statement.CartesianProductWarning} {category: } {title: This query builds a cartesian product between disconnected patterns.} {description: If a part of a query contains multiple disconnected patterns, this will build a cartesian product between all those parts. This may produce a large amount of data and slow down query processing. While occasionally intended, it may often be possible to reformulate the query that avoids the use of this cross product, perhaps by adding a relationship between the different parts or by using OPTIONAL MATCH (identifier is: (target))} {position: line: 2, column: 1, offset: 13} for query: \"\\n            MATCH (source:Entity {id: 'Case'}),\\n                  (target:Entity {id: 'Sex'})\\n            MERGE (source)-[:MATCHED_BY]->(target)\\n            \"\n",
      "Received notification from DBMS server: {severity: WARNING} {code: Neo.ClientNotification.Statement.CartesianProductWarning} {category: } {title: This query builds a cartesian product between disconnected patterns.} {description: If a part of a query contains multiple disconnected patterns, this will build a cartesian product between all those parts. This may produce a large amount of data and slow down query processing. While occasionally intended, it may often be possible to reformulate the query that avoids the use of this cross product, perhaps by adding a relationship between the different parts or by using OPTIONAL MATCH (identifier is: (target))} {position: line: 2, column: 1, offset: 13} for query: \"\\n            MATCH (source:Entity {id: 'Case'}),\\n                  (target:Entity {id: 'Cancer type'})\\n            MERGE (source)-[:MATCHED_BY]->(target)\\n            \"\n"
     ]
    },
    {
     "name": "stderr",
     "output_type": "stream",
     "text": [
      "Received notification from DBMS server: {severity: WARNING} {code: Neo.ClientNotification.Statement.CartesianProductWarning} {category: } {title: This query builds a cartesian product between disconnected patterns.} {description: If a part of a query contains multiple disconnected patterns, this will build a cartesian product between all those parts. This may produce a large amount of data and slow down query processing. While occasionally intended, it may often be possible to reformulate the query that avoids the use of this cross product, perhaps by adding a relationship between the different parts or by using OPTIONAL MATCH (identifier is: (target))} {position: line: 2, column: 1, offset: 13} for query: \"\\n            MATCH (source:Entity {id: 'Case'}),\\n                  (target:Entity {id: 'Cancer diagnosis date'})\\n            MERGE (source)-[:MATCHED_BY]->(target)\\n            \"\n",
      "Received notification from DBMS server: {severity: WARNING} {code: Neo.ClientNotification.Statement.CartesianProductWarning} {category: } {title: This query builds a cartesian product between disconnected patterns.} {description: If a part of a query contains multiple disconnected patterns, this will build a cartesian product between all those parts. This may produce a large amount of data and slow down query processing. While occasionally intended, it may often be possible to reformulate the query that avoids the use of this cross product, perhaps by adding a relationship between the different parts or by using OPTIONAL MATCH (identifier is: (target))} {position: line: 2, column: 1, offset: 13} for query: \"\\n            MATCH (source:Entity {id: 'Logistic regression'}),\\n                  (target:Entity {id: 'Major adverse cardiovascular events (MACEs)'})\\n            MERGE (source)-[:USED_TO_EVALUATE]->(target)\\n            \"\n",
      "Received notification from DBMS server: {severity: WARNING} {code: Neo.ClientNotification.Statement.CartesianProductWarning} {category: } {title: This query builds a cartesian product between disconnected patterns.} {description: If a part of a query contains multiple disconnected patterns, this will build a cartesian product between all those parts. This may produce a large amount of data and slow down query processing. While occasionally intended, it may often be possible to reformulate the query that avoids the use of this cross product, perhaps by adding a relationship between the different parts or by using OPTIONAL MATCH (identifier is: (target))} {position: line: 2, column: 1, offset: 13} for query: \"\\n            MATCH (source:Entity {id: 'Propensity score adjustment'}),\\n                  (target:Entity {id: 'Major adverse cardiovascular events (MACEs)'})\\n            MERGE (source)-[:USED_FOR]->(target)\\n            \"\n",
      "Received notification from DBMS server: {severity: WARNING} {code: Neo.ClientNotification.Statement.CartesianProductWarning} {category: } {title: This query builds a cartesian product between disconnected patterns.} {description: If a part of a query contains multiple disconnected patterns, this will build a cartesian product between all those parts. This may produce a large amount of data and slow down query processing. While occasionally intended, it may often be possible to reformulate the query that avoids the use of this cross product, perhaps by adding a relationship between the different parts or by using OPTIONAL MATCH (identifier is: (target))} {position: line: 2, column: 1, offset: 13} for query: \"\\n            MATCH (source:Entity {id: 'Sensitivity analyses'}),\\n                  (target:Entity {id: 'Major adverse cardiovascular events (MACEs)'})\\n            MERGE (source)-[:USED_TO_EVALUATE]->(target)\\n            \"\n",
      "Received notification from DBMS server: {severity: WARNING} {code: Neo.ClientNotification.Statement.CartesianProductWarning} {category: } {title: This query builds a cartesian product between disconnected patterns.} {description: If a part of a query contains multiple disconnected patterns, this will build a cartesian product between all those parts. This may produce a large amount of data and slow down query processing. While occasionally intended, it may often be possible to reformulate the query that avoids the use of this cross product, perhaps by adding a relationship between the different parts or by using OPTIONAL MATCH (identifier is: (target))} {position: line: 2, column: 1, offset: 13} for query: \"\\n            MATCH (source:Entity {id: 'Incidence'}),\\n                  (target:Entity {id: 'Major adverse cardiovascular events (MACEs)'})\\n            MERGE (source)-[:MEASURED_FOR]->(target)\\n            \"\n",
      "Received notification from DBMS server: {severity: WARNING} {code: Neo.ClientNotification.Statement.CartesianProductWarning} {category: } {title: This query builds a cartesian product between disconnected patterns.} {description: If a part of a query contains multiple disconnected patterns, this will build a cartesian product between all those parts. This may produce a large amount of data and slow down query processing. While occasionally intended, it may often be possible to reformulate the query that avoids the use of this cross product, perhaps by adding a relationship between the different parts or by using OPTIONAL MATCH (identifier is: (target))} {position: line: 2, column: 1, offset: 13} for query: \"\\n            MATCH (source:Entity {id: 'Incidence'}),\\n                  (target:Entity {id: 'Person-years'})\\n            MERGE (source)-[:CALCULATED_PER]->(target)\\n            \"\n",
      "Received notification from DBMS server: {severity: WARNING} {code: Neo.ClientNotification.Statement.CartesianProductWarning} {category: } {title: This query builds a cartesian product between disconnected patterns.} {description: If a part of a query contains multiple disconnected patterns, this will build a cartesian product between all those parts. This may produce a large amount of data and slow down query processing. While occasionally intended, it may often be possible to reformulate the query that avoids the use of this cross product, perhaps by adding a relationship between the different parts or by using OPTIONAL MATCH (identifier is: (target))} {position: line: 2, column: 1, offset: 13} for query: \"\\n            MATCH (source:Entity {id: 'Major adverse cardiovascular events (MACEs)'}),\\n                  (target:Entity {id: 'Angiogenesis inhibitors'})\\n            MERGE (source)-[:ASSOCIATED_WITH]->(target)\\n            \"\n",
      "Received notification from DBMS server: {severity: WARNING} {code: Neo.ClientNotification.Statement.CartesianProductWarning} {category: } {title: This query builds a cartesian product between disconnected patterns.} {description: If a part of a query contains multiple disconnected patterns, this will build a cartesian product between all those parts. This may produce a large amount of data and slow down query processing. While occasionally intended, it may often be possible to reformulate the query that avoids the use of this cross product, perhaps by adding a relationship between the different parts or by using OPTIONAL MATCH (identifier is: (target))} {position: line: 2, column: 1, offset: 13} for query: \"\\n            MATCH (source:Entity {id: 'Heart failure hospitalization'}),\\n                  (target:Entity {id: 'Angiogenesis inhibitors'})\\n            MERGE (source)-[:ASSOCIATED_WITH]->(target)\\n            \"\n",
      "Received notification from DBMS server: {severity: WARNING} {code: Neo.ClientNotification.Statement.CartesianProductWarning} {category: } {title: This query builds a cartesian product between disconnected patterns.} {description: If a part of a query contains multiple disconnected patterns, this will build a cartesian product between all those parts. This may produce a large amount of data and slow down query processing. While occasionally intended, it may often be possible to reformulate the query that avoids the use of this cross product, perhaps by adding a relationship between the different parts or by using OPTIONAL MATCH (identifier is: (target))} {position: line: 2, column: 1, offset: 13} for query: \"\\n            MATCH (source:Entity {id: 'Myocardial infarction'}),\\n                  (target:Entity {id: 'Angiogenesis inhibitors'})\\n            MERGE (source)-[:ASSOCIATED_WITH]->(target)\\n            \"\n"
     ]
    },
    {
     "name": "stderr",
     "output_type": "stream",
     "text": [
      "Received notification from DBMS server: {severity: WARNING} {code: Neo.ClientNotification.Statement.CartesianProductWarning} {category: } {title: This query builds a cartesian product between disconnected patterns.} {description: If a part of a query contains multiple disconnected patterns, this will build a cartesian product between all those parts. This may produce a large amount of data and slow down query processing. While occasionally intended, it may often be possible to reformulate the query that avoids the use of this cross product, perhaps by adding a relationship between the different parts or by using OPTIONAL MATCH (identifier is: (target))} {position: line: 2, column: 1, offset: 13} for query: \"\\n            MATCH (source:Entity {id: 'Cerebrovascular accident'}),\\n                  (target:Entity {id: 'Angiogenesis inhibitors'})\\n            MERGE (source)-[:ASSOCIATED_WITH]->(target)\\n            \"\n",
      "Received notification from DBMS server: {severity: WARNING} {code: Neo.ClientNotification.Statement.CartesianProductWarning} {category: } {title: This query builds a cartesian product between disconnected patterns.} {description: If a part of a query contains multiple disconnected patterns, this will build a cartesian product between all those parts. This may produce a large amount of data and slow down query processing. While occasionally intended, it may often be possible to reformulate the query that avoids the use of this cross product, perhaps by adding a relationship between the different parts or by using OPTIONAL MATCH (identifier is: (target))} {position: line: 2, column: 1, offset: 13} for query: \"\\n            MATCH (source:Entity {id: 'Venous thromboembolism'}),\\n                  (target:Entity {id: 'Angiogenesis inhibitors'})\\n            MERGE (source)-[:ASSOCIATED_WITH]->(target)\\n            \"\n",
      "Received notification from DBMS server: {severity: WARNING} {code: Neo.ClientNotification.Statement.CartesianProductWarning} {category: } {title: This query builds a cartesian product between disconnected patterns.} {description: If a part of a query contains multiple disconnected patterns, this will build a cartesian product between all those parts. This may produce a large amount of data and slow down query processing. While occasionally intended, it may often be possible to reformulate the query that avoids the use of this cross product, perhaps by adding a relationship between the different parts or by using OPTIONAL MATCH (identifier is: (target))} {position: line: 2, column: 1, offset: 13} for query: \"\\n            MATCH (source:Entity {id: 'New-onset atrial fibrillation'}),\\n                  (target:Entity {id: 'Angiogenesis inhibitors'})\\n            MERGE (source)-[:ASSOCIATED_WITH]->(target)\\n            \"\n",
      "Received notification from DBMS server: {severity: WARNING} {code: Neo.ClientNotification.Statement.CartesianProductWarning} {category: } {title: This query builds a cartesian product between disconnected patterns.} {description: If a part of a query contains multiple disconnected patterns, this will build a cartesian product between all those parts. This may produce a large amount of data and slow down query processing. While occasionally intended, it may often be possible to reformulate the query that avoids the use of this cross product, perhaps by adding a relationship between the different parts or by using OPTIONAL MATCH (identifier is: (target))} {position: line: 2, column: 1, offset: 13} for query: \"\\n            MATCH (source:Entity {id: 'Malignancies'}),\\n                  (target:Entity {id: 'Angiogenesis inhibitors'})\\n            MERGE (source)-[:ASSOCIATED_WITH]->(target)\\n            \"\n",
      "Received notification from DBMS server: {severity: WARNING} {code: Neo.ClientNotification.Statement.CartesianProductWarning} {category: } {title: This query builds a cartesian product between disconnected patterns.} {description: If a part of a query contains multiple disconnected patterns, this will build a cartesian product between all those parts. This may produce a large amount of data and slow down query processing. While occasionally intended, it may often be possible to reformulate the query that avoids the use of this cross product, perhaps by adding a relationship between the different parts or by using OPTIONAL MATCH (identifier is: (target))} {position: line: 2, column: 1, offset: 13} for query: \"\\n            MATCH (source:Entity {id: 'Angiogenesis inhibitors'}),\\n                  (target:Entity {id: 'Patients with cancer'})\\n            MERGE (source)-[:ADMINISTERED_TO]->(target)\\n            \"\n",
      "Received notification from DBMS server: {severity: WARNING} {code: Neo.ClientNotification.Statement.CartesianProductWarning} {category: } {title: This query builds a cartesian product between disconnected patterns.} {description: If a part of a query contains multiple disconnected patterns, this will build a cartesian product between all those parts. This may produce a large amount of data and slow down query processing. While occasionally intended, it may often be possible to reformulate the query that avoids the use of this cross product, perhaps by adding a relationship between the different parts or by using OPTIONAL MATCH (identifier is: (target))} {position: line: 2, column: 1, offset: 13} for query: \"\\n            MATCH (source:Entity {id: 'Observational study'}),\\n                  (target:Entity {id: 'Cardiovascular toxicity'})\\n            MERGE (source)-[:FOCUS_OF]->(target)\\n            \"\n",
      "Received notification from DBMS server: {severity: WARNING} {code: Neo.ClientNotification.Statement.CartesianProductWarning} {category: } {title: This query builds a cartesian product between disconnected patterns.} {description: If a part of a query contains multiple disconnected patterns, this will build a cartesian product between all those parts. This may produce a large amount of data and slow down query processing. While occasionally intended, it may often be possible to reformulate the query that avoids the use of this cross product, perhaps by adding a relationship between the different parts or by using OPTIONAL MATCH (identifier is: (target))} {position: line: 2, column: 1, offset: 13} for query: \"\\n            MATCH (source:Entity {id: 'Taiwan Cancer Registry'}),\\n                  (target:Entity {id: 'Taiwan'})\\n            MERGE (source)-[:LOCATED_IN]->(target)\\n            \"\n",
      "Received notification from DBMS server: {severity: WARNING} {code: Neo.ClientNotification.Statement.CartesianProductWarning} {category: } {title: This query builds a cartesian product between disconnected patterns.} {description: If a part of a query contains multiple disconnected patterns, this will build a cartesian product between all those parts. This may produce a large amount of data and slow down query processing. While occasionally intended, it may often be possible to reformulate the query that avoids the use of this cross product, perhaps by adding a relationship between the different parts or by using OPTIONAL MATCH (identifier is: (target))} {position: line: 2, column: 1, offset: 13} for query: \"\\n            MATCH (source:Entity {id: 'Taiwan National Insurance Claim Database'}),\\n                  (target:Entity {id: 'Taiwan'})\\n            MERGE (source)-[:LINKED_WITH]->(target)\\n            \"\n",
      "Received notification from DBMS server: {severity: WARNING} {code: Neo.ClientNotification.Statement.CartesianProductWarning} {category: } {title: This query builds a cartesian product between disconnected patterns.} {description: If a part of a query contains multiple disconnected patterns, this will build a cartesian product between all those parts. This may produce a large amount of data and slow down query processing. While occasionally intended, it may often be possible to reformulate the query that avoids the use of this cross product, perhaps by adding a relationship between the different parts or by using OPTIONAL MATCH (identifier is: (target))} {position: line: 2, column: 1, offset: 13} for query: \"\\n            MATCH (source:Entity {id: 'Age'}),\\n                  (target:Entity {id: 'Case'})\\n            MERGE (source)-[:MATCHED_BY]->(target)\\n            \"\n"
     ]
    },
    {
     "name": "stderr",
     "output_type": "stream",
     "text": [
      "Received notification from DBMS server: {severity: WARNING} {code: Neo.ClientNotification.Statement.CartesianProductWarning} {category: } {title: This query builds a cartesian product between disconnected patterns.} {description: If a part of a query contains multiple disconnected patterns, this will build a cartesian product between all those parts. This may produce a large amount of data and slow down query processing. While occasionally intended, it may often be possible to reformulate the query that avoids the use of this cross product, perhaps by adding a relationship between the different parts or by using OPTIONAL MATCH (identifier is: (target))} {position: line: 2, column: 1, offset: 13} for query: \"\\n            MATCH (source:Entity {id: 'Sex'}),\\n                  (target:Entity {id: 'Case'})\\n            MERGE (source)-[:MATCHED_BY]->(target)\\n            \"\n",
      "Received notification from DBMS server: {severity: WARNING} {code: Neo.ClientNotification.Statement.CartesianProductWarning} {category: } {title: This query builds a cartesian product between disconnected patterns.} {description: If a part of a query contains multiple disconnected patterns, this will build a cartesian product between all those parts. This may produce a large amount of data and slow down query processing. While occasionally intended, it may often be possible to reformulate the query that avoids the use of this cross product, perhaps by adding a relationship between the different parts or by using OPTIONAL MATCH (identifier is: (target))} {position: line: 2, column: 1, offset: 13} for query: \"\\n            MATCH (source:Entity {id: 'Cancer type'}),\\n                  (target:Entity {id: 'Case'})\\n            MERGE (source)-[:MATCHED_BY]->(target)\\n            \"\n",
      "Received notification from DBMS server: {severity: WARNING} {code: Neo.ClientNotification.Statement.CartesianProductWarning} {category: } {title: This query builds a cartesian product between disconnected patterns.} {description: If a part of a query contains multiple disconnected patterns, this will build a cartesian product between all those parts. This may produce a large amount of data and slow down query processing. While occasionally intended, it may often be possible to reformulate the query that avoids the use of this cross product, perhaps by adding a relationship between the different parts or by using OPTIONAL MATCH (identifier is: (target))} {position: line: 2, column: 1, offset: 13} for query: \"\\n            MATCH (source:Entity {id: 'Cancer diagnosis date'}),\\n                  (target:Entity {id: 'Case'})\\n            MERGE (source)-[:MATCHED_BY]->(target)\\n            \"\n",
      "Received notification from DBMS server: {severity: WARNING} {code: Neo.ClientNotification.Statement.CartesianProductWarning} {category: } {title: This query builds a cartesian product between disconnected patterns.} {description: If a part of a query contains multiple disconnected patterns, this will build a cartesian product between all those parts. This may produce a large amount of data and slow down query processing. While occasionally intended, it may often be possible to reformulate the query that avoids the use of this cross product, perhaps by adding a relationship between the different parts or by using OPTIONAL MATCH (identifier is: (target))} {position: line: 2, column: 1, offset: 13} for query: \"\\n            MATCH (source:Entity {id: 'Heart failure hospitalization'}),\\n                  (target:Entity {id: 'Angiogenesis inhibitors'})\\n            MERGE (source)-[:INCREASED_RISKS_OF]->(target)\\n            \"\n",
      "Received notification from DBMS server: {severity: WARNING} {code: Neo.ClientNotification.Statement.CartesianProductWarning} {category: } {title: This query builds a cartesian product between disconnected patterns.} {description: If a part of a query contains multiple disconnected patterns, this will build a cartesian product between all those parts. This may produce a large amount of data and slow down query processing. While occasionally intended, it may often be possible to reformulate the query that avoids the use of this cross product, perhaps by adding a relationship between the different parts or by using OPTIONAL MATCH (identifier is: (target))} {position: line: 2, column: 1, offset: 13} for query: \"\\n            MATCH (source:Entity {id: 'Myocardial infarction'}),\\n                  (target:Entity {id: 'Angiogenesis inhibitors'})\\n            MERGE (source)-[:INCREASED_RISKS_OF]->(target)\\n            \"\n",
      "Received notification from DBMS server: {severity: WARNING} {code: Neo.ClientNotification.Statement.CartesianProductWarning} {category: } {title: This query builds a cartesian product between disconnected patterns.} {description: If a part of a query contains multiple disconnected patterns, this will build a cartesian product between all those parts. This may produce a large amount of data and slow down query processing. While occasionally intended, it may often be possible to reformulate the query that avoids the use of this cross product, perhaps by adding a relationship between the different parts or by using OPTIONAL MATCH (identifier is: (target))} {position: line: 2, column: 1, offset: 13} for query: \"\\n            MATCH (source:Entity {id: 'Cerebrovascular accident'}),\\n                  (target:Entity {id: 'Angiogenesis inhibitors'})\\n            MERGE (source)-[:INCREASED_RISKS_OF]->(target)\\n            \"\n",
      "Received notification from DBMS server: {severity: WARNING} {code: Neo.ClientNotification.Statement.CartesianProductWarning} {category: } {title: This query builds a cartesian product between disconnected patterns.} {description: If a part of a query contains multiple disconnected patterns, this will build a cartesian product between all those parts. This may produce a large amount of data and slow down query processing. While occasionally intended, it may often be possible to reformulate the query that avoids the use of this cross product, perhaps by adding a relationship between the different parts or by using OPTIONAL MATCH (identifier is: (target))} {position: line: 2, column: 1, offset: 13} for query: \"\\n            MATCH (source:Entity {id: 'Venous thromboembolism'}),\\n                  (target:Entity {id: 'Angiogenesis inhibitors'})\\n            MERGE (source)-[:INCREASED_RISKS_OF]->(target)\\n            \"\n",
      "Received notification from DBMS server: {severity: WARNING} {code: Neo.ClientNotification.Statement.CartesianProductWarning} {category: } {title: This query builds a cartesian product between disconnected patterns.} {description: If a part of a query contains multiple disconnected patterns, this will build a cartesian product between all those parts. This may produce a large amount of data and slow down query processing. While occasionally intended, it may often be possible to reformulate the query that avoids the use of this cross product, perhaps by adding a relationship between the different parts or by using OPTIONAL MATCH (identifier is: (target))} {position: line: 2, column: 1, offset: 13} for query: \"\\n            MATCH (source:Entity {id: 'New-onset atrial fibrillation'}),\\n                  (target:Entity {id: 'Angiogenesis inhibitors'})\\n            MERGE (source)-[:NO_ASSOCIATION_WITH]->(target)\\n            \"\n",
      "Received notification from DBMS server: {severity: WARNING} {code: Neo.ClientNotification.Statement.CartesianProductWarning} {category: } {title: This query builds a cartesian product between disconnected patterns.} {description: If a part of a query contains multiple disconnected patterns, this will build a cartesian product between all those parts. This may produce a large amount of data and slow down query processing. While occasionally intended, it may often be possible to reformulate the query that avoids the use of this cross product, perhaps by adding a relationship between the different parts or by using OPTIONAL MATCH (identifier is: (target))} {position: line: 2, column: 1, offset: 13} for query: \"\\n            MATCH (source:Entity {id: 'Propensity score adjustment'}),\\n                  (target:Entity {id: 'Angiogenesis inhibitors'})\\n            MERGE (source)-[:USED_TO_EVALUATE]->(target)\\n            \"\n"
     ]
    },
    {
     "name": "stderr",
     "output_type": "stream",
     "text": [
      "Received notification from DBMS server: {severity: WARNING} {code: Neo.ClientNotification.Statement.CartesianProductWarning} {category: } {title: This query builds a cartesian product between disconnected patterns.} {description: If a part of a query contains multiple disconnected patterns, this will build a cartesian product between all those parts. This may produce a large amount of data and slow down query processing. While occasionally intended, it may often be possible to reformulate the query that avoids the use of this cross product, perhaps by adding a relationship between the different parts or by using OPTIONAL MATCH (identifier is: (target))} {position: line: 2, column: 1, offset: 13} for query: \"\\n            MATCH (source:Entity {id: 'Matching'}),\\n                  (target:Entity {id: 'Cancer stage'})\\n            MERGE (source)-[:BY]->(target)\\n            \"\n",
      "Received notification from DBMS server: {severity: WARNING} {code: Neo.ClientNotification.Statement.CartesianProductWarning} {category: } {title: This query builds a cartesian product between disconnected patterns.} {description: If a part of a query contains multiple disconnected patterns, this will build a cartesian product between all those parts. This may produce a large amount of data and slow down query processing. While occasionally intended, it may often be possible to reformulate the query that avoids the use of this cross product, perhaps by adding a relationship between the different parts or by using OPTIONAL MATCH (identifier is: (target))} {position: line: 2, column: 1, offset: 13} for query: \"\\n            MATCH (source:Entity {id: 'Sensitivity analyses'}),\\n                  (target:Entity {id: 'Exposure within 1 year'})\\n            MERGE (source)-[:USED_TO_EVALUATE]->(target)\\n            \"\n",
      "Received notification from DBMS server: {severity: WARNING} {code: Neo.ClientNotification.Statement.CartesianProductWarning} {category: } {title: This query builds a cartesian product between disconnected patterns.} {description: If a part of a query contains multiple disconnected patterns, this will build a cartesian product between all those parts. This may produce a large amount of data and slow down query processing. While occasionally intended, it may often be possible to reformulate the query that avoids the use of this cross product, perhaps by adding a relationship between the different parts or by using OPTIONAL MATCH (identifier is: (target))} {position: line: 2, column: 1, offset: 13} for query: \"\\n            MATCH (source:Entity {id: 'Cohort'}),\\n                  (target:Entity {id: 'Exclusion of prevalent cases'})\\n            MERGE (source)-[:AFTER]->(target)\\n            \"\n",
      "Received notification from DBMS server: {severity: WARNING} {code: Neo.ClientNotification.Statement.CartesianProductWarning} {category: } {title: This query builds a cartesian product between disconnected patterns.} {description: If a part of a query contains multiple disconnected patterns, this will build a cartesian product between all those parts. This may produce a large amount of data and slow down query processing. While occasionally intended, it may often be possible to reformulate the query that avoids the use of this cross product, perhaps by adding a relationship between the different parts or by using OPTIONAL MATCH (identifier is: (target))} {position: line: 2, column: 1, offset: 13} for query: \"\\n            MATCH (source:Entity {id: 'Incidence'}),\\n                  (target:Entity {id: 'MACEs'})\\n            MERGE (source)-[:AMONG]->(target)\\n            \"\n",
      "Received notification from DBMS server: {severity: WARNING} {code: Neo.ClientNotification.Statement.CartesianProductWarning} {category: } {title: This query builds a cartesian product between disconnected patterns.} {description: If a part of a query contains multiple disconnected patterns, this will build a cartesian product between all those parts. This may produce a large amount of data and slow down query processing. While occasionally intended, it may often be possible to reformulate the query that avoids the use of this cross product, perhaps by adding a relationship between the different parts or by using OPTIONAL MATCH (identifier is: (target))} {position: line: 2, column: 1, offset: 13} for query: \"\\n            MATCH (source:Entity {id: 'Men'}),\\n                  (target:Entity {id: 'Patients'})\\n            MERGE (source)-[:GENDER_OF]->(target)\\n            \"\n",
      "Received notification from DBMS server: {severity: WARNING} {code: Neo.ClientNotification.Statement.CartesianProductWarning} {category: } {title: This query builds a cartesian product between disconnected patterns.} {description: If a part of a query contains multiple disconnected patterns, this will build a cartesian product between all those parts. This may produce a large amount of data and slow down query processing. While occasionally intended, it may often be possible to reformulate the query that avoids the use of this cross product, perhaps by adding a relationship between the different parts or by using OPTIONAL MATCH (identifier is: (target))} {position: line: 2, column: 1, offset: 13} for query: \"\\n            MATCH (source:Entity {id: 'Cardiovascular toxicity'}),\\n                  (target:Entity {id: 'Angiogenesis inhibitors'})\\n            MERGE (source)-[:ASSOCIATED_WITH]->(target)\\n            \"\n",
      "Received notification from DBMS server: {severity: WARNING} {code: Neo.ClientNotification.Statement.CartesianProductWarning} {category: } {title: This query builds a cartesian product between disconnected patterns.} {description: If a part of a query contains multiple disconnected patterns, this will build a cartesian product between all those parts. This may produce a large amount of data and slow down query processing. While occasionally intended, it may often be possible to reformulate the query that avoids the use of this cross product, perhaps by adding a relationship between the different parts or by using OPTIONAL MATCH (identifier is: (target))} {position: line: 2, column: 1, offset: 13} for query: \"\\n            MATCH (source:Entity {id: 'Angiogenesis inhibitors'}),\\n                  (target:Entity {id: 'Major adverse cardiovascular events (MACEs)'})\\n            MERGE (source)-[:ASSOCIATED_WITH]->(target)\\n            \"\n",
      "Received notification from DBMS server: {severity: WARNING} {code: Neo.ClientNotification.Statement.CartesianProductWarning} {category: } {title: This query builds a cartesian product between disconnected patterns.} {description: If a part of a query contains multiple disconnected patterns, this will build a cartesian product between all those parts. This may produce a large amount of data and slow down query processing. While occasionally intended, it may often be possible to reformulate the query that avoids the use of this cross product, perhaps by adding a relationship between the different parts or by using OPTIONAL MATCH (identifier is: (target))} {position: line: 2, column: 1, offset: 13} for query: \"\\n            MATCH (source:Entity {id: 'Taiwan'}),\\n                  (target:Entity {id: 'Observational study'})\\n            MERGE (source)-[:LOCATION_OF]->(target)\\n            \"\n",
      "Received notification from DBMS server: {severity: WARNING} {code: Neo.ClientNotification.Statement.CartesianProductWarning} {category: } {title: This query builds a cartesian product between disconnected patterns.} {description: If a part of a query contains multiple disconnected patterns, this will build a cartesian product between all those parts. This may produce a large amount of data and slow down query processing. While occasionally intended, it may often be possible to reformulate the query that avoids the use of this cross product, perhaps by adding a relationship between the different parts or by using OPTIONAL MATCH (identifier is: (target))} {position: line: 2, column: 1, offset: 13} for query: \"\\n            MATCH (source:Entity {id: 'Observational study'}),\\n                  (target:Entity {id: 'Major adverse cardiovascular events (MACEs)'})\\n            MERGE (source)-[:EXPLORED_THE_RISK_OF]->(target)\\n            \"\n"
     ]
    },
    {
     "name": "stderr",
     "output_type": "stream",
     "text": [
      "Received notification from DBMS server: {severity: WARNING} {code: Neo.ClientNotification.Statement.CartesianProductWarning} {category: } {title: This query builds a cartesian product between disconnected patterns.} {description: If a part of a query contains multiple disconnected patterns, this will build a cartesian product between all those parts. This may produce a large amount of data and slow down query processing. While occasionally intended, it may often be possible to reformulate the query that avoids the use of this cross product, perhaps by adding a relationship between the different parts or by using OPTIONAL MATCH (identifier is: (target))} {position: line: 2, column: 1, offset: 13} for query: \"\\n            MATCH (source:Entity {id: 'Taiwan Cancer Registry'}),\\n                  (target:Entity {id: 'Taiwan National Insurance Claim Database'})\\n            MERGE (source)-[:LINKED_WITH]->(target)\\n            \"\n",
      "Received notification from DBMS server: {severity: WARNING} {code: Neo.ClientNotification.Statement.CartesianProductWarning} {category: } {title: This query builds a cartesian product between disconnected patterns.} {description: If a part of a query contains multiple disconnected patterns, this will build a cartesian product between all those parts. This may produce a large amount of data and slow down query processing. While occasionally intended, it may often be possible to reformulate the query that avoids the use of this cross product, perhaps by adding a relationship between the different parts or by using OPTIONAL MATCH (identifier is: (target))} {position: line: 2, column: 1, offset: 13} for query: \"\\n            MATCH (source:Entity {id: 'Age'}),\\n                  (target:Entity {id: 'Sex'})\\n            MERGE (source)-[:MATCHED_BY]->(target)\\n            \"\n",
      "Received notification from DBMS server: {severity: WARNING} {code: Neo.ClientNotification.Statement.CartesianProductWarning} {category: } {title: This query builds a cartesian product between disconnected patterns.} {description: If a part of a query contains multiple disconnected patterns, this will build a cartesian product between all those parts. This may produce a large amount of data and slow down query processing. While occasionally intended, it may often be possible to reformulate the query that avoids the use of this cross product, perhaps by adding a relationship between the different parts or by using OPTIONAL MATCH (identifier is: (target))} {position: line: 2, column: 1, offset: 13} for query: \"\\n            MATCH (source:Entity {id: 'Cancer type'}),\\n                  (target:Entity {id: 'Cancer diagnosis date'})\\n            MERGE (source)-[:MATCHED_BY]->(target)\\n            \"\n",
      "Received notification from DBMS server: {severity: WARNING} {code: Neo.ClientNotification.Statement.CartesianProductWarning} {category: } {title: This query builds a cartesian product between disconnected patterns.} {description: If a part of a query contains multiple disconnected patterns, this will build a cartesian product between all those parts. This may produce a large amount of data and slow down query processing. While occasionally intended, it may often be possible to reformulate the query that avoids the use of this cross product, perhaps by adding a relationship between the different parts or by using OPTIONAL MATCH (identifier is: (target))} {position: line: 2, column: 1, offset: 13} for query: \"\\n            MATCH (source:Entity {id: 'Logistic regression'}),\\n                  (target:Entity {id: 'Major adverse cardiovascular events (MACEs)'})\\n            MERGE (source)-[:USED_TO_EVALUATE_THE_RISKS_OF]->(target)\\n            \"\n",
      "Received notification from DBMS server: {severity: WARNING} {code: Neo.ClientNotification.Statement.CartesianProductWarning} {category: } {title: This query builds a cartesian product between disconnected patterns.} {description: If a part of a query contains multiple disconnected patterns, this will build a cartesian product between all those parts. This may produce a large amount of data and slow down query processing. While occasionally intended, it may often be possible to reformulate the query that avoids the use of this cross product, perhaps by adding a relationship between the different parts or by using OPTIONAL MATCH (identifier is: (target))} {position: line: 2, column: 1, offset: 13} for query: \"\\n            MATCH (source:Entity {id: 'Sensitivity analyses'}),\\n                  (target:Entity {id: 'Major adverse cardiovascular events (MACEs)'})\\n            MERGE (source)-[:USED_TO_EVALUATE_THE_RISKS_OF]->(target)\\n            \"\n",
      "Received notification from DBMS server: {severity: WARNING} {code: Neo.ClientNotification.Statement.CartesianProductWarning} {category: } {title: This query builds a cartesian product between disconnected patterns.} {description: If a part of a query contains multiple disconnected patterns, this will build a cartesian product between all those parts. This may produce a large amount of data and slow down query processing. While occasionally intended, it may often be possible to reformulate the query that avoids the use of this cross product, perhaps by adding a relationship between the different parts or by using OPTIONAL MATCH (identifier is: (target))} {position: line: 2, column: 1, offset: 13} for query: \"\\n            MATCH (source:Entity {id: 'Prevalent cases'}),\\n                  (target:Entity {id: 'Exclusion of'})\\n            MERGE (source)-[:EXCLUDED]->(target)\\n            \"\n",
      "Received notification from DBMS server: {severity: WARNING} {code: Neo.ClientNotification.Statement.CartesianProductWarning} {category: } {title: This query builds a cartesian product between disconnected patterns.} {description: If a part of a query contains multiple disconnected patterns, this will build a cartesian product between all those parts. This may produce a large amount of data and slow down query processing. While occasionally intended, it may often be possible to reformulate the query that avoids the use of this cross product, perhaps by adding a relationship between the different parts or by using OPTIONAL MATCH (identifier is: (target))} {position: line: 2, column: 1, offset: 13} for query: \"\\n            MATCH (source:Entity {id: 'Person-years'}),\\n                  (target:Entity {id: 'Major adverse cardiovascular events (MACEs)'})\\n            MERGE (source)-[:INCIDENCE_OF]->(target)\\n            \"\n",
      "Received notification from DBMS server: {severity: WARNING} {code: Neo.ClientNotification.Statement.CartesianProductWarning} {category: } {title: This query builds a cartesian product between disconnected patterns.} {description: If a part of a query contains multiple disconnected patterns, this will build a cartesian product between all those parts. This may produce a large amount of data and slow down query processing. While occasionally intended, it may often be possible to reformulate the query that avoids the use of this cross product, perhaps by adding a relationship between the different parts or by using OPTIONAL MATCH (identifier is: (target))} {position: line: 2, column: 1, offset: 13} for query: \"\\n            MATCH (source:Entity {id: 'Heart failure'}),\\n                  (target:Entity {id: 'Angiogenesis inhibitors'})\\n            MERGE (source)-[:INCREASED_RISKS_OF]->(target)\\n            \"\n",
      "Received notification from DBMS server: {severity: WARNING} {code: Neo.ClientNotification.Statement.CartesianProductWarning} {category: } {title: This query builds a cartesian product between disconnected patterns.} {description: If a part of a query contains multiple disconnected patterns, this will build a cartesian product between all those parts. This may produce a large amount of data and slow down query processing. While occasionally intended, it may often be possible to reformulate the query that avoids the use of this cross product, perhaps by adding a relationship between the different parts or by using OPTIONAL MATCH (identifier is: (target))} {position: line: 2, column: 1, offset: 13} for query: \"\\n            MATCH (source:Entity {id: 'Hospitalization'}),\\n                  (target:Entity {id: 'Angiogenesis inhibitors'})\\n            MERGE (source)-[:INCREASED_RISKS_OF]->(target)\\n            \"\n"
     ]
    },
    {
     "name": "stderr",
     "output_type": "stream",
     "text": [
      "Received notification from DBMS server: {severity: WARNING} {code: Neo.ClientNotification.Statement.CartesianProductWarning} {category: } {title: This query builds a cartesian product between disconnected patterns.} {description: If a part of a query contains multiple disconnected patterns, this will build a cartesian product between all those parts. This may produce a large amount of data and slow down query processing. While occasionally intended, it may often be possible to reformulate the query that avoids the use of this cross product, perhaps by adding a relationship between the different parts or by using OPTIONAL MATCH (identifier is: (target))} {position: line: 2, column: 1, offset: 13} for query: \"\\n            MATCH (source:Entity {id: 'Atrial fibrillation'}),\\n                  (target:Entity {id: 'Angiogenesis inhibitors'})\\n            MERGE (source)-[:NO_ASSOCIATION_WITH]->(target)\\n            \"\n"
     ]
    }
   ],
   "source": [
    "# Example usage: Run the function on an abstract\n",
    "abstract = \"\"\"research on the cardiovascular toxicity of angiogenesis inhibitors among patients with cancer in taiwan is lacking this observational study explored the risk of major adverse cardiovascular events maces associated with angiogenesis inhibitors in taiwan we conducted a nested casecontrol study using the tcr taiwan cancer registry linked with the taiwan national insurance claim database we matched every case with 4 controls using riskset sampling by index date age sex cancer type and cancer diagnosis date conditional logistic regression was used to evaluate the risks of maces and different cardiovascular events using propensity score adjustment or matching sensitivity analyses were used to evaluate the risks matched by cancer stages or exposure within 1 year among a cohort of 284 292 after the exclusion of prevalent cases the incidences of maces among the overall cohort and those exposed to angiogenesis inhibitors were 225 and 325 events per 1000 personyears respectively we matched 17 817 cases with 70 740 controls with a mean age of 749 years and 568 of patients were men after propensity score adjustment angiogenesis inhibitors were associated with increased risks of maces odds ratio 456 95 ci 1781159 significantly increased risks were noted for heart failure hospitalization myocardial infarction cerebrovascular accident and venous thromboembolism but not for newonset atrial fibrillation similar results were observed after matching by cancer stage or restriction of 1year exposure angiogenesis inhibitors were associated with increased risks of maces among patients with various malignancies in taiwan but were not associated with newonset atrial fibrillation\n",
    "\"\"\"\n",
    "entities, relationships = extract_entities_relationships_multiple_runs(abstract, num_runs=3)\n",
    "\n",
    "# Print the final entities and relationships\n",
    "print(\"Entities:\", entities)\n",
    "print(\"Relationships:\", relationships)\n",
    "\n",
    "# Connect to Neo4j\n",
    "uri = \"bolt://localhost:7999\"  # Adjust for your Neo4j instance\n",
    "username = \"neo4j\"\n",
    "password = \"password\"\n",
    "driver = GraphDatabase.driver(uri, auth=(username, password))\n",
    "\n",
    "# Function to escape special characters for Cypher queries\n",
    "def escape_special_chars(value):\n",
    "    return value.replace(\"'\", \"''\")\n",
    "\n",
    "# Insert deduplicated entities and relationships into Neo4j\n",
    "insert_into_neo4j(entities, relationships)\n",
    "\n",
    "# Close Neo4j connection\n",
    "driver.close()\n"
   ]
  },
  {
   "cell_type": "code",
   "execution_count": null,
   "id": "d2e6426f",
   "metadata": {},
   "outputs": [],
   "source": []
  }
 ],
 "metadata": {
  "kernelspec": {
   "display_name": "Python 3 (ipykernel)",
   "language": "python",
   "name": "python3"
  },
  "language_info": {
   "codemirror_mode": {
    "name": "ipython",
    "version": 3
   },
   "file_extension": ".py",
   "mimetype": "text/x-python",
   "name": "python",
   "nbconvert_exporter": "python",
   "pygments_lexer": "ipython3",
   "version": "3.9.13"
  }
 },
 "nbformat": 4,
 "nbformat_minor": 5
}
